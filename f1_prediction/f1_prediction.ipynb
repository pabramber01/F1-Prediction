{
 "cells": [
  {
   "cell_type": "markdown",
   "metadata": {},
   "source": [
    "# F1 Prediction\n"
   ]
  },
  {
   "cell_type": "markdown",
   "metadata": {},
   "source": [
    "## Introduction\n"
   ]
  },
  {
   "cell_type": "markdown",
   "metadata": {},
   "source": [
    "The FIA Formula 1 World Championship, better known as Formula 1, F1 or Formula One, is the premier international motorsport competition and the most popular and prestigious motorsport championship in the world since 1950. The governing body is the Fédération Internationale de l'Automobile (FIA). Since September 2016, following the acquisition of Formula One Group, the American company Liberty Media has been responsible for managing and operating the championship.\n",
    "\n",
    "The objective of this work is to carry out an analysis of the data collected from Formula 1 with the intention of making a predictive model about, for example, the winner of the Grand Prix or the podium.\n"
   ]
  },
  {
   "cell_type": "markdown",
   "metadata": {},
   "source": [
    "## Dependencies\n"
   ]
  },
  {
   "cell_type": "markdown",
   "metadata": {},
   "source": [
    "All the dependencies used throughout the notebooks can be found below, as well as some imposed options such as not displaying warnings.\n"
   ]
  },
  {
   "cell_type": "code",
   "execution_count": 1,
   "metadata": {},
   "outputs": [],
   "source": [
    "from sklearn.neighbors import KNeighborsClassifier, KNeighborsRegressor\n",
    "from sklearn.tree import DecisionTreeClassifier, DecisionTreeRegressor\n",
    "from sklearn.ensemble import RandomForestClassifier, RandomForestRegressor\n",
    "from sklearn.neural_network import MLPClassifier, MLPRegressor\n",
    "from sklearn.preprocessing import LabelEncoder, RobustScaler\n",
    "from sklearn.metrics import make_scorer\n",
    "from sklearn.model_selection import (\n",
    "    cross_val_score,\n",
    "    TimeSeriesSplit,\n",
    "    GridSearchCV,\n",
    "    RandomizedSearchCV,\n",
    ")\n",
    "\n",
    "from xgboost import XGBClassifier, XGBRegressor, XGBRanker\n",
    "\n",
    "from scipy import stats\n",
    "\n",
    "from utils.custom_cvs import VariableTimeSeriesSplit\n",
    "from utils.custom_scorers import (\n",
    "    balanced_accuracy_score,\n",
    "    balanced_accuracy_ranker,\n",
    "    mean_absolute_ranker,\n",
    "    balanced_accuracy_1interval_score,\n",
    "    balanced_accuracy_1interval_ranker,\n",
    "    mean_absolute_1interval_error,\n",
    "    mean_absolute_1interval_ranker,\n",
    ")\n",
    "from utils.visualization import (\n",
    "    model_test,\n",
    "    model_selection,\n",
    "    model_tuning,\n",
    "    model_pgrmlly_outlier_treatment,\n",
    ")\n",
    "\n",
    "from datetime import datetime\n",
    "import sys\n",
    "import textwrap\n",
    "import matplotlib.pyplot as plt\n",
    "import numpy as np\n",
    "import pandas as pd\n",
    "\n",
    "pd.set_option(\"display.max_columns\", None)\n",
    "pd.set_option(\"display.max_rows\", None)\n",
    "\n",
    "import warnings\n",
    "\n",
    "warnings.simplefilter(\"ignore\")"
   ]
  }
 ],
 "metadata": {
  "kernelspec": {
   "display_name": "Python 3",
   "language": "python",
   "name": "python3"
  },
  "language_info": {
   "codemirror_mode": {
    "name": "ipython",
    "version": 3
   },
   "file_extension": ".py",
   "mimetype": "text/x-python",
   "name": "python",
   "nbconvert_exporter": "python",
   "pygments_lexer": "ipython3",
   "version": "3.10.11"
  }
 },
 "nbformat": 4,
 "nbformat_minor": 2
}
