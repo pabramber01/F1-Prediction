{
 "cells": [
  {
   "cell_type": "markdown",
   "metadata": {},
   "source": [
    "# Data preparation\n"
   ]
  },
  {
   "cell_type": "markdown",
   "metadata": {},
   "source": [
    "## Dependencies\n"
   ]
  },
  {
   "cell_type": "markdown",
   "metadata": {},
   "source": [
    "The dependencies used are as follows\n"
   ]
  },
  {
   "cell_type": "code",
   "execution_count": 1,
   "metadata": {},
   "outputs": [],
   "source": [
    "from sklearn.preprocessing import LabelEncoder, RobustScaler\n",
    "\n",
    "from datetime import datetime\n",
    "\n",
    "import numpy as np\n",
    "import pandas as pd\n",
    "\n",
    "pd.set_option(\"display.max_columns\", None)\n",
    "pd.set_option(\"display.max_rows\", None)\n",
    "\n",
    "import warnings\n",
    "\n",
    "warnings.simplefilter(\"ignore\")"
   ]
  },
  {
   "cell_type": "markdown",
   "metadata": {},
   "source": [
    "## Getting data\n"
   ]
  },
  {
   "cell_type": "markdown",
   "metadata": {},
   "source": [
    "Since the latest data collected from kaggle is for the 2023 season, let's check how it works with the first four races of the 2024 season, which are all the races held up to the day on which this work is done.\n",
    "\n",
    "To do this, you could take the data directly from the official Formula 1 website, which is not what we are going to do. For convenience, we are going to take the data from the same source that is done in kaggle, ergast_api. Note that the data are exactly the same as in the official site, with the advantage that we do not have to make sure that the values of the attributes correspond to the training dataset, since both come from the same source.\n",
    "\n",
    "Therefore, the next steps will be similar to those performed previously with respect to preprocessing.\n",
    "\n",
    "_Source: http://ergast.com/mrd/db/#csv_\n"
   ]
  },
  {
   "cell_type": "markdown",
   "metadata": {},
   "source": [
    "## Merging data\n"
   ]
  },
  {
   "cell_type": "markdown",
   "metadata": {},
   "source": [
    "The first step is to merge the data.\n"
   ]
  },
  {
   "cell_type": "code",
   "execution_count": 2,
   "metadata": {},
   "outputs": [],
   "source": [
    "results_df = pd.read_csv(\"../assets/data/ergast/results.csv\")\n",
    "drivers_df = pd.read_csv(\"../assets/data/ergast/drivers.csv\")\n",
    "constructors_df = pd.read_csv(\"../assets/data/ergast/constructors.csv\")\n",
    "races_df = pd.read_csv(\"../assets/data/ergast/races.csv\")\n",
    "circuits_df = pd.read_csv(\"../assets/data/ergast/circuits.csv\")\n",
    "status_df = pd.read_csv(\"../assets/data/ergast/status.csv\")\n",
    "driver_standings_df = pd.read_csv(\"../assets/data/ergast/driver_standings.csv\")\n",
    "constructor_standings_df = pd.read_csv(\n",
    "    \"../assets/data/ergast/constructor_standings.csv\"\n",
    ")\n",
    "qualifyings_df = pd.read_csv(\"../assets/data/ergast/qualifying.csv\")\n",
    "\n",
    "df = pd.merge(results_df, drivers_df, how=\"left\", on=\"driverId\")\n",
    "df = df.merge(constructors_df, how=\"left\", on=\"constructorId\")\n",
    "df = df.merge(races_df, how=\"left\", on=\"raceId\")\n",
    "df = df.merge(circuits_df, how=\"left\", on=\"circuitId\", suffixes=(\"\", \"_z\"))\n",
    "df = df.merge(status_df, how=\"left\", on=\"statusId\")\n",
    "df = df.merge(driver_standings_df, how=\"left\", on=[\"raceId\", \"driverId\"])\n",
    "df = df.merge(constructor_standings_df, how=\"left\", on=[\"raceId\", \"constructorId\"])\n",
    "df = df.merge(\n",
    "    qualifyings_df,\n",
    "    how=\"left\",\n",
    "    on=[\"raceId\", \"driverId\", \"constructorId\"],\n",
    "    suffixes=(\"\", \"_u\"),\n",
    ")"
   ]
  },
  {
   "cell_type": "markdown",
   "metadata": {},
   "source": [
    "## Renaming data\n"
   ]
  },
  {
   "cell_type": "markdown",
   "metadata": {},
   "source": [
    "Subsequently, we rename the columns in the same way as we did in the first section.\n"
   ]
  },
  {
   "cell_type": "code",
   "execution_count": 3,
   "metadata": {},
   "outputs": [],
   "source": [
    "df = df.drop(\n",
    "    [\n",
    "        \"resultId\",\n",
    "        \"position_x\",\n",
    "        \"positionText_x\",\n",
    "        \"time_x\",\n",
    "        \"driverId\",\n",
    "        \"code\",\n",
    "        \"forename\",\n",
    "        \"surname\",\n",
    "        \"url_x\",\n",
    "        \"constructorId\",\n",
    "        \"name_x\",\n",
    "        \"url_y\",\n",
    "        \"raceId\",\n",
    "        \"url\",\n",
    "        \"fp1_date\",\n",
    "        \"fp1_time\",\n",
    "        \"fp2_date\",\n",
    "        \"fp2_time\",\n",
    "        \"fp3_date\",\n",
    "        \"fp3_time\",\n",
    "        \"quali_date\",\n",
    "        \"quali_time\",\n",
    "        \"sprint_date\",\n",
    "        \"sprint_time\",\n",
    "        \"circuitId\",\n",
    "        \"name\",\n",
    "        \"url_z\",\n",
    "        \"statusId\",\n",
    "        \"driverStandingsId\",\n",
    "        \"points_y\",\n",
    "        \"position_y\",\n",
    "        \"positionText_y\",\n",
    "        \"constructorStandingsId\",\n",
    "        \"positionText\",\n",
    "        \"qualifyId\",\n",
    "        \"number\",\n",
    "        \"position_u\",\n",
    "    ],\n",
    "    axis=1,\n",
    ")\n",
    "\n",
    "col_name = {\n",
    "    \"number_x\": \"carNumber\",\n",
    "    \"grid\": \"positionGrid\",\n",
    "    \"positionOrder\": \"positionFinal\",\n",
    "    \"points_x\": \"pointsDriverEarned\",\n",
    "    \"laps\": \"lapsCompleted\",\n",
    "    \"milliseconds\": \"timeTakenInMillisec\",\n",
    "    \"rank\": \"fastestLapRank\",\n",
    "    \"fastestLapSpeed\": \"maxSpeed\",\n",
    "    \"statusId\": \"status\",\n",
    "    \"number_y\": \"driverNumber\",\n",
    "    \"dob\": \"driverBirth\",\n",
    "    \"nationality_x\": \"driverNationality\",\n",
    "    \"nationality_y\": \"constructorNationality\",\n",
    "    \"year\": \"raceYear\",\n",
    "    \"round\": \"raceRound\",\n",
    "    \"name_y\": \"grandPrix\",\n",
    "    \"date\": \"raceDate\",\n",
    "    \"time_y\": \"raceTime\",\n",
    "    \"location\": \"circuitLocation\",\n",
    "    \"country\": \"circuitCountry\",\n",
    "    \"lat\": \"circuitLat\",\n",
    "    \"lng\": \"circuitLng\",\n",
    "    \"alt\": \"circuitAlt\",\n",
    "    \"status\": \"driverStatus\",\n",
    "    \"wins_x\": \"driverWins\",\n",
    "    \"wins_y\": \"constructorWins\",\n",
    "    \"points\": \"pointsConstructorEarned\",\n",
    "    \"position\": \"constructorPosition\",\n",
    "}\n",
    "\n",
    "df.rename(columns=col_name, inplace=True)"
   ]
  },
  {
   "cell_type": "markdown",
   "metadata": {},
   "source": [
    "## Datatype conversion\n"
   ]
  },
  {
   "cell_type": "markdown",
   "metadata": {},
   "source": [
    "Now we convert the types.\n"
   ]
  },
  {
   "cell_type": "code",
   "execution_count": 4,
   "metadata": {},
   "outputs": [],
   "source": [
    "dates = [\"driverBirth\", \"raceDate\"]\n",
    "for d in dates:\n",
    "    df[d] = pd.to_datetime(df[d])\n",
    "\n",
    "h_f, m_f = \"%H:%M:%S\", \"%M:%S.%f\"\n",
    "times = [\n",
    "    (\"fastestLapTime\", m_f),\n",
    "    (\"raceTime\", h_f),\n",
    "    (\"q1\", m_f),\n",
    "    (\"q2\", m_f),\n",
    "    (\"q3\", m_f),\n",
    "]\n",
    "for t, f in times:\n",
    "    df[t] = pd.to_numeric(\n",
    "        pd.to_timedelta(\n",
    "            pd.to_datetime(df[t], format=f, errors=\"coerce\").dt.time.to_numpy(dtype=str)\n",
    "        ).total_seconds()\n",
    "        * 1000\n",
    "    )\n",
    "\n",
    "numbers = [\n",
    "    \"carNumber\",\n",
    "    \"positionGrid\",\n",
    "    \"positionFinal\",\n",
    "    \"pointsDriverEarned\",\n",
    "    \"lapsCompleted\",\n",
    "    \"timeTakenInMillisec\",\n",
    "    \"fastestLap\",\n",
    "    \"fastestLapRank\",\n",
    "    \"maxSpeed\",\n",
    "    \"driverNumber\",\n",
    "    \"raceYear\",\n",
    "    \"raceRound\",\n",
    "    \"circuitLat\",\n",
    "    \"circuitLng\",\n",
    "    \"circuitAlt\",\n",
    "    \"driverWins\",\n",
    "    \"pointsConstructorEarned\",\n",
    "    \"constructorPosition\",\n",
    "    \"constructorWins\",\n",
    "]\n",
    "for n in numbers:\n",
    "    df[n] = pd.to_numeric(df[n], errors=\"coerce\")\n",
    "\n",
    "df[\"driverAgeToday\"] = np.int64(datetime.today().year - df[\"driverBirth\"].dt.year)\n",
    "df[\"driverAgeAtRace\"] = np.int64(df[\"raceDate\"].dt.year - df[\"driverBirth\"].dt.year)\n",
    "df = df.drop([\"driverBirth\"], axis=1)\n",
    "df = df.drop([\"raceDate\"], axis=1)\n",
    "\n",
    "df = df.replace(\"\\\\N\", None)"
   ]
  },
  {
   "cell_type": "markdown",
   "metadata": {},
   "source": [
    "## Race filtering\n"
   ]
  },
  {
   "cell_type": "markdown",
   "metadata": {},
   "source": [
    "We filter the races for those that are from the last season.\n"
   ]
  },
  {
   "cell_type": "code",
   "execution_count": 5,
   "metadata": {},
   "outputs": [],
   "source": [
    "df = df[df[\"raceYear\"] >= 2024]"
   ]
  },
  {
   "cell_type": "markdown",
   "metadata": {},
   "source": [
    "We will also check for any nulls.\n"
   ]
  },
  {
   "cell_type": "code",
   "execution_count": 6,
   "metadata": {},
   "outputs": [
    {
     "data": {
      "text/plain": [
       "carNumber                   0\n",
       "positionGrid                0\n",
       "positionFinal               0\n",
       "pointsDriverEarned          0\n",
       "lapsCompleted               0\n",
       "timeTakenInMillisec        39\n",
       "fastestLap                  3\n",
       "fastestLapRank              0\n",
       "fastestLapTime              3\n",
       "maxSpeed                    3\n",
       "driverRef                   0\n",
       "driverNumber                0\n",
       "driverNationality           0\n",
       "constructorRef              0\n",
       "constructorNationality      0\n",
       "raceYear                    0\n",
       "raceRound                   0\n",
       "grandPrix                   0\n",
       "raceTime                    0\n",
       "circuitRef                  0\n",
       "circuitLocation             0\n",
       "circuitCountry              0\n",
       "circuitLat                  0\n",
       "circuitLng                  0\n",
       "circuitAlt                  0\n",
       "driverStatus                0\n",
       "driverWins                  0\n",
       "pointsConstructorEarned     0\n",
       "constructorPosition         0\n",
       "constructorWins             0\n",
       "q1                          1\n",
       "q2                         20\n",
       "q3                         39\n",
       "driverAgeToday              0\n",
       "driverAgeAtRace             0\n",
       "dtype: int64"
      ]
     },
     "execution_count": 6,
     "metadata": {},
     "output_type": "execute_result"
    }
   ],
   "source": [
    "df.isnull().sum()"
   ]
  },
  {
   "cell_type": "markdown",
   "metadata": {},
   "source": [
    "## Missing values: Qualifiers\n"
   ]
  },
  {
   "cell_type": "markdown",
   "metadata": {},
   "source": [
    "We will solve the nulls in the same way as we did in the past, so the explanation will be omitted.\n"
   ]
  },
  {
   "cell_type": "code",
   "execution_count": 7,
   "metadata": {},
   "outputs": [],
   "source": [
    "first_q_not_null = ~(df[\"q1\"].isnull())\n",
    "second_q_not_null = ~(df[\"q2\"].isnull())\n",
    "third_q_not_null = ~(df[\"q3\"].isnull())\n",
    "mask = first_q_not_null & second_q_not_null & third_q_not_null"
   ]
  },
  {
   "cell_type": "code",
   "execution_count": 8,
   "metadata": {},
   "outputs": [],
   "source": [
    "mask = first_q_not_null & ~second_q_not_null & ~third_q_not_null\n",
    "df.loc[mask, [\"q2\", \"q3\"]] = df.loc[mask, \"q1\"]\n",
    "\n",
    "mask = first_q_not_null & second_q_not_null & ~third_q_not_null\n",
    "df.loc[mask, \"q3\"] = df.loc[mask, [\"q1\", \"q2\"]].sample(axis=1).squeeze()"
   ]
  },
  {
   "cell_type": "code",
   "execution_count": 9,
   "metadata": {},
   "outputs": [],
   "source": [
    "qualify_by_race = (\n",
    "    df[[\"raceYear\", \"raceRound\", \"q1\"]]\n",
    "    .groupby([\"raceYear\", \"raceRound\"])\n",
    "    .agg({\"q1\": \"max\"})\n",
    ")\n",
    "\n",
    "mask = ~first_q_not_null & ~second_q_not_null & ~third_q_not_null\n",
    "\n",
    "mg = df.loc[mask]\n",
    "mg = mg.join(qualify_by_race, how=\"left\", on=[\"raceYear\", \"raceRound\"], rsuffix=\"Max\")\n",
    "df.loc[mask, [\"q1\", \"q2\", \"q3\"]] = mg[\"q1Max\"]"
   ]
  },
  {
   "cell_type": "markdown",
   "metadata": {},
   "source": [
    "## Sorting data\n"
   ]
  },
  {
   "cell_type": "markdown",
   "metadata": {},
   "source": [
    "We will sort the data as well as we did before.\n"
   ]
  },
  {
   "cell_type": "code",
   "execution_count": 10,
   "metadata": {},
   "outputs": [],
   "source": [
    "df = df.sort_values(by=[\"raceYear\", \"raceRound\"]).reset_index(drop=True)"
   ]
  },
  {
   "cell_type": "markdown",
   "metadata": {},
   "source": [
    "## Weather data\n"
   ]
  },
  {
   "cell_type": "markdown",
   "metadata": {},
   "source": [
    "First we will add the weather. In this case we had to do web scraping again.\n"
   ]
  },
  {
   "cell_type": "code",
   "execution_count": 11,
   "metadata": {},
   "outputs": [
    {
     "name": "stdout",
     "output_type": "stream",
     "text": [
      "<class 'pandas.core.frame.DataFrame'>\n",
      "RangeIndex: 79 entries, 0 to 78\n",
      "Data columns (total 41 columns):\n",
      " #   Column                   Non-Null Count  Dtype  \n",
      "---  ------                   --------------  -----  \n",
      " 0   carNumber                79 non-null     float64\n",
      " 1   positionGrid             79 non-null     int64  \n",
      " 2   positionFinal            79 non-null     int64  \n",
      " 3   pointsDriverEarned       79 non-null     float64\n",
      " 4   lapsCompleted            79 non-null     int64  \n",
      " 5   timeTakenInMillisec      40 non-null     float64\n",
      " 6   fastestLap               76 non-null     float64\n",
      " 7   fastestLapRank           79 non-null     float64\n",
      " 8   fastestLapTime           76 non-null     float64\n",
      " 9   maxSpeed                 76 non-null     float64\n",
      " 10  driverRef                79 non-null     object \n",
      " 11  driverNumber             79 non-null     float64\n",
      " 12  driverNationality        79 non-null     object \n",
      " 13  constructorRef           79 non-null     object \n",
      " 14  constructorNationality   79 non-null     object \n",
      " 15  raceYear                 79 non-null     int64  \n",
      " 16  raceRound                79 non-null     int64  \n",
      " 17  grandPrix                79 non-null     object \n",
      " 18  raceTime                 79 non-null     float64\n",
      " 19  circuitRef               79 non-null     object \n",
      " 20  circuitLocation          79 non-null     object \n",
      " 21  circuitCountry           79 non-null     object \n",
      " 22  circuitLat               79 non-null     float64\n",
      " 23  circuitLng               79 non-null     float64\n",
      " 24  circuitAlt               79 non-null     int64  \n",
      " 25  driverStatus             79 non-null     object \n",
      " 26  driverWins               79 non-null     float64\n",
      " 27  pointsConstructorEarned  79 non-null     float64\n",
      " 28  constructorPosition      79 non-null     float64\n",
      " 29  constructorWins          79 non-null     float64\n",
      " 30  q1                       79 non-null     float64\n",
      " 31  q2                       79 non-null     float64\n",
      " 32  q3                       79 non-null     float64\n",
      " 33  driverAgeToday           79 non-null     int64  \n",
      " 34  driverAgeAtRace          79 non-null     int64  \n",
      " 35  weather                  79 non-null     object \n",
      " 36  weatherWarm              79 non-null     int64  \n",
      " 37  weatherCold              79 non-null     int64  \n",
      " 38  weatherDry               79 non-null     int64  \n",
      " 39  weatherWet               79 non-null     int64  \n",
      " 40  weatherCloudy            79 non-null     int64  \n",
      "dtypes: float64(18), int64(13), object(10)\n",
      "memory usage: 25.4+ KB\n"
     ]
    }
   ],
   "source": [
    "weather_df = pd.read_csv(\"../assets/data/scraping/weather_2024.csv\")\n",
    "weather_df.rename(columns={\"year\": \"raceYear\", \"round\": \"raceRound\"}, inplace=True)\n",
    "\n",
    "df = df.merge(weather_df, how=\"left\", on=[\"raceYear\", \"raceRound\"])\n",
    "df.info()"
   ]
  },
  {
   "cell_type": "markdown",
   "metadata": {},
   "source": [
    "We can see that the datatypes are correct so we move on to see if there are any nulls.\n"
   ]
  },
  {
   "cell_type": "code",
   "execution_count": 12,
   "metadata": {},
   "outputs": [
    {
     "data": {
      "text/html": [
       "<div>\n",
       "<style scoped>\n",
       "    .dataframe tbody tr th:only-of-type {\n",
       "        vertical-align: middle;\n",
       "    }\n",
       "\n",
       "    .dataframe tbody tr th {\n",
       "        vertical-align: top;\n",
       "    }\n",
       "\n",
       "    .dataframe thead th {\n",
       "        text-align: right;\n",
       "    }\n",
       "</style>\n",
       "<table border=\"1\" class=\"dataframe\">\n",
       "  <thead>\n",
       "    <tr style=\"text-align: right;\">\n",
       "      <th></th>\n",
       "      <th>raceYear</th>\n",
       "      <th>raceRound</th>\n",
       "      <th>grandPrix</th>\n",
       "    </tr>\n",
       "  </thead>\n",
       "  <tbody>\n",
       "  </tbody>\n",
       "</table>\n",
       "</div>"
      ],
      "text/plain": [
       "Empty DataFrame\n",
       "Columns: [raceYear, raceRound, grandPrix]\n",
       "Index: []"
      ]
     },
     "execution_count": 12,
     "metadata": {},
     "output_type": "execute_result"
    }
   ],
   "source": [
    "mask = df[\"weather\"] == \"not found\"\n",
    "proyection = [\"raceYear\", \"raceRound\", \"grandPrix\"]\n",
    "\n",
    "df.loc[mask, proyection].drop_duplicates()"
   ]
  },
  {
   "cell_type": "markdown",
   "metadata": {},
   "source": [
    "## Circuit data\n"
   ]
  },
  {
   "cell_type": "markdown",
   "metadata": {},
   "source": [
    "Secondly, we add the circuit data. In this case, as the circuits are the same without modifications, no scraping has been necessary.\n"
   ]
  },
  {
   "cell_type": "code",
   "execution_count": 13,
   "metadata": {},
   "outputs": [],
   "source": [
    "circuits_plus_df = pd.read_csv(\"../assets/data/scraping/circuits_plus.csv\")\n",
    "circuits_plusplus_df = pd.read_csv(\"../assets/data/scraping/circuits_plusplus.csv\")\n",
    "\n",
    "df = df.merge(circuits_plus_df, how=\"left\", on=[\"circuitRef\"])\n",
    "df = df.merge(circuits_plusplus_df, how=\"left\", on=[\"circuitRef\"])"
   ]
  },
  {
   "cell_type": "code",
   "execution_count": 14,
   "metadata": {},
   "outputs": [],
   "source": [
    "numbers = [\"circuitLaps\", \"circuitDist\"]\n",
    "for n in numbers:\n",
    "    df[n] = pd.to_numeric(df[n], errors=\"coerce\")"
   ]
  },
  {
   "cell_type": "markdown",
   "metadata": {},
   "source": [
    "## Additional features\n"
   ]
  },
  {
   "cell_type": "markdown",
   "metadata": {},
   "source": [
    "It is followed by the derived attributes.\n"
   ]
  },
  {
   "cell_type": "code",
   "execution_count": 15,
   "metadata": {},
   "outputs": [],
   "source": [
    "get_worst_q = lambda row: row[[\"q1\", \"q2\", \"q3\"]].min()\n",
    "get_best_q = lambda row: row[[\"q1\", \"q2\", \"q3\"]].max()\n",
    "get_avg_q = lambda row: row[[\"q1\", \"q2\", \"q3\"]].mean()\n",
    "\n",
    "df[\"qMin\"] = df.apply(get_worst_q, axis=1)\n",
    "df[\"qMax\"] = df.apply(get_best_q, axis=1)\n",
    "df[\"qAvg\"] = df.apply(get_avg_q, axis=1)"
   ]
  },
  {
   "cell_type": "code",
   "execution_count": 16,
   "metadata": {},
   "outputs": [],
   "source": [
    "train_df = pd.read_csv(\"../assets/data/processed/adding_data.csv\")\n",
    "\n",
    "started_ages = list(\n",
    "    train_df[[\"driverRef\", \"driverAgeStarted\"]]\n",
    "    .set_index(keys=\"driverRef\")\n",
    "    .to_dict()\n",
    "    .values()\n",
    ")[0]\n",
    "\n",
    "already_exp = list(\n",
    "    train_df[[\"driverRef\", \"driverExpRace\"]]\n",
    "    .set_index(keys=\"driverRef\")\n",
    "    .to_dict()\n",
    "    .values()\n",
    ")[0]\n",
    "\n",
    "df[\"driverAgeStarted\"] = df.apply(\n",
    "    lambda x: started_ages.get(x.driverRef, x.driverAgeToday), axis=1\n",
    ")\n",
    "\n",
    "exp_by_race = lambda x: [\n",
    "    sum(df.loc[:i, \"driverRef\"] == r[\"driverRef\"]) + already_exp.get(r[\"driverRef\"], 0)\n",
    "    for i, r in x.iterrows()\n",
    "]\n",
    "\n",
    "df[\"driverExpYear\"] = df[\"driverAgeAtRace\"] - df[\"driverAgeStarted\"]\n",
    "df[\"driverExpRace\"] = exp_by_race(df)"
   ]
  },
  {
   "cell_type": "code",
   "execution_count": 17,
   "metadata": {},
   "outputs": [],
   "source": [
    "podiums = df[df[\"positionFinal\"].isin([1, 2, 3])][\n",
    "    [\"raceYear\", \"raceRound\", \"driverRef\"]\n",
    "]\n",
    "podiums = podiums.groupby(by=[\"raceYear\", \"raceRound\"]).agg({\"driverRef\": \",\".join})\n",
    "\n",
    "df = df.merge(\n",
    "    podiums, how=\"left\", on=[\"raceYear\", \"raceRound\"], suffixes=(\"\", \"Podium\")\n",
    ")\n",
    "df[\"driverIsPodium\"] = df.apply(\n",
    "    lambda x: x[\"driverRef\"] in x[\"driverRefPodium\"], axis=1\n",
    ")\n",
    "df[\"driverPodiums\"] = df.groupby([\"raceYear\", \"driverRef\"])[\"driverIsPodium\"].cumsum()\n",
    "df = df.drop([\"driverRefPodium\", \"driverIsPodium\"], axis=1)\n",
    "\n",
    "years = df[\"raceYear\"].drop_duplicates().to_numpy()\n",
    "drivers = df[\"driverRef\"].drop_duplicates().to_numpy()\n",
    "\n",
    "for year in years:\n",
    "    for driver in drivers:\n",
    "        mask = (df[\"raceYear\"] == year) & (df[\"driverRef\"] == driver)\n",
    "        races = df.loc[mask, \"driverPodiums\"].iloc[:-1]\n",
    "        races.loc[-1] = 0\n",
    "        races.index += 1\n",
    "        races.sort_index(inplace=True)\n",
    "        races = races.to_numpy()\n",
    "        df.loc[mask, \"driverPodiums\"] = races"
   ]
  },
  {
   "cell_type": "code",
   "execution_count": 18,
   "metadata": {},
   "outputs": [],
   "source": [
    "for i in range(2, 19):\n",
    "    position = df[df[\"positionFinal\"].isin([i])][[\"raceYear\", \"raceRound\", \"driverRef\"]]\n",
    "    position = position.groupby(by=[\"raceYear\", \"raceRound\"]).agg(\n",
    "        {\"driverRef\": \",\".join}\n",
    "    )\n",
    "\n",
    "    df = df.merge(\n",
    "        position, how=\"left\", on=[\"raceYear\", \"raceRound\"], suffixes=(\"\", f\"Pos{i}\")\n",
    "    )\n",
    "    df[f\"driverIsPos{i}\"] = df.apply(\n",
    "        lambda x: x[\"driverRef\"] in x[f\"driverRefPos{i}\"], axis=1\n",
    "    )\n",
    "    df[f\"driverPos{i}\"] = df.groupby([\"raceYear\", \"driverRef\"])[\n",
    "        f\"driverIsPos{i}\"\n",
    "    ].cumsum()\n",
    "    df = df.drop([f\"driverRefPos{i}\", f\"driverIsPos{i}\"], axis=1)\n",
    "\n",
    "years = df[\"raceYear\"].drop_duplicates().to_numpy()\n",
    "drivers = df[\"driverRef\"].drop_duplicates().to_numpy()\n",
    "\n",
    "features = [\n",
    "    \"driverPos2\",\n",
    "    \"driverPos3\",\n",
    "    \"driverPos4\",\n",
    "    \"driverPos5\",\n",
    "    \"driverPos6\",\n",
    "    \"driverPos7\",\n",
    "    \"driverPos8\",\n",
    "    \"driverPos9\",\n",
    "    \"driverPos10\",\n",
    "    \"driverPos11\",\n",
    "    \"driverPos12\",\n",
    "    \"driverPos13\",\n",
    "    \"driverPos14\",\n",
    "    \"driverPos15\",\n",
    "    \"driverPos16\",\n",
    "    \"driverPos17\",\n",
    "    \"driverPos18\",\n",
    "]\n",
    "\n",
    "for year in years:\n",
    "    for driver in drivers:\n",
    "        mask = (df[\"raceYear\"] == year) & (df[\"driverRef\"] == driver)\n",
    "        races = df.loc[mask, features].iloc[:-1]\n",
    "        races.loc[-1] = np.zeros(17, dtype=int)\n",
    "        races.index += 1\n",
    "        races.sort_index(inplace=True)\n",
    "        races = races.to_numpy()\n",
    "        df.loc[mask, features] = races"
   ]
  },
  {
   "cell_type": "markdown",
   "metadata": {},
   "source": [
    "## Driver ratings data\n"
   ]
  },
  {
   "cell_type": "markdown",
   "metadata": {},
   "source": [
    "It is followed by the driver ratings data.\n"
   ]
  },
  {
   "cell_type": "code",
   "execution_count": 19,
   "metadata": {},
   "outputs": [],
   "source": [
    "driver_ratings_df = pd.read_csv(\"../assets/data/scraping/driver_ratings_ea_2024.csv\")"
   ]
  },
  {
   "cell_type": "code",
   "execution_count": 20,
   "metadata": {},
   "outputs": [],
   "source": [
    "mnm = min(driver_ratings_df[\"driverExp\"])\n",
    "rg = max(driver_ratings_df[\"driverExp\"]) - mnm\n",
    "arr = (driver_ratings_df[\"driverExp\"] - mnm) / rg\n",
    "rg2 = df[\"driverExpRace\"].max() - 1\n",
    "normalized = (arr * rg2) + 1\n",
    "\n",
    "driver_ratings_df[\"driverExp\"] = round(normalized)"
   ]
  },
  {
   "cell_type": "code",
   "execution_count": 21,
   "metadata": {},
   "outputs": [],
   "source": [
    "for year, driver, exp, rac, awa, pac, ovr in driver_ratings_df.itertuples(index=False):\n",
    "    mask = (df[\"raceYear\"] == int(year)) & (\n",
    "        df[\"driverRef\"].apply(lambda x: x in driver)\n",
    "    )\n",
    "\n",
    "    df.loc[mask, \"driverExp\"] = exp\n",
    "    df.loc[mask, \"driverRac\"] = rac\n",
    "    df.loc[mask, \"driverAwa\"] = awa\n",
    "    df.loc[mask, \"driverPac\"] = pac\n",
    "    df.loc[mask, \"driverOvr\"] = ovr"
   ]
  },
  {
   "cell_type": "code",
   "execution_count": 22,
   "metadata": {},
   "outputs": [],
   "source": [
    "n_features = 5\n",
    "n_neighbors = 5\n",
    "\n",
    "driver_exp = dict()\n",
    "\n",
    "for e in range(1, df[\"driverExpRace\"].max() + 1):\n",
    "    close_exp = sorted(driver_ratings_df.to_numpy(), key=lambda x: np.abs(x[2] - e))[\n",
    "        :n_neighbors\n",
    "    ]\n",
    "    avg_ratings = []\n",
    "    for i in range(2, n_features + 2):\n",
    "        ratings = []\n",
    "        for j in range(n_neighbors):\n",
    "            ratings.append(close_exp[j][i])\n",
    "        avg_ratings.append(round(sum(ratings) / n_neighbors))\n",
    "    driver_exp[e] = avg_ratings\n",
    "\n",
    "m = df[\"driverOvr\"].isnull()\n",
    "p = \"driverExpRace\"\n",
    "df[\"driverExp\"] = df[\"driverExp\"].fillna(df.loc[m, p].apply(lambda x: driver_exp[x][0]))\n",
    "df[\"driverRac\"] = df[\"driverRac\"].fillna(df.loc[m, p].apply(lambda x: driver_exp[x][1]))\n",
    "df[\"driverAwa\"] = df[\"driverAwa\"].fillna(df.loc[m, p].apply(lambda x: driver_exp[x][2]))\n",
    "df[\"driverPac\"] = df[\"driverPac\"].fillna(df.loc[m, p].apply(lambda x: driver_exp[x][3]))\n",
    "df[\"driverOvr\"] = df[\"driverOvr\"].fillna(df.loc[m, p].apply(lambda x: driver_exp[x][4]))"
   ]
  },
  {
   "cell_type": "code",
   "execution_count": 23,
   "metadata": {},
   "outputs": [
    {
     "name": "stdout",
     "output_type": "stream",
     "text": [
      "<class 'pandas.core.frame.DataFrame'>\n",
      "RangeIndex: 79 entries, 0 to 78\n",
      "Data columns (total 75 columns):\n",
      " #   Column                   Non-Null Count  Dtype  \n",
      "---  ------                   --------------  -----  \n",
      " 0   carNumber                79 non-null     float64\n",
      " 1   positionGrid             79 non-null     int64  \n",
      " 2   positionFinal            79 non-null     int64  \n",
      " 3   pointsDriverEarned       79 non-null     float64\n",
      " 4   lapsCompleted            79 non-null     int64  \n",
      " 5   timeTakenInMillisec      40 non-null     float64\n",
      " 6   fastestLap               76 non-null     float64\n",
      " 7   fastestLapRank           79 non-null     float64\n",
      " 8   fastestLapTime           76 non-null     float64\n",
      " 9   maxSpeed                 76 non-null     float64\n",
      " 10  driverRef                79 non-null     object \n",
      " 11  driverNumber             79 non-null     float64\n",
      " 12  driverNationality        79 non-null     object \n",
      " 13  constructorRef           79 non-null     object \n",
      " 14  constructorNationality   79 non-null     object \n",
      " 15  raceYear                 79 non-null     int64  \n",
      " 16  raceRound                79 non-null     int64  \n",
      " 17  grandPrix                79 non-null     object \n",
      " 18  raceTime                 79 non-null     float64\n",
      " 19  circuitRef               79 non-null     object \n",
      " 20  circuitLocation          79 non-null     object \n",
      " 21  circuitCountry           79 non-null     object \n",
      " 22  circuitLat               79 non-null     float64\n",
      " 23  circuitLng               79 non-null     float64\n",
      " 24  circuitAlt               79 non-null     int64  \n",
      " 25  driverStatus             79 non-null     object \n",
      " 26  driverWins               79 non-null     float64\n",
      " 27  pointsConstructorEarned  79 non-null     float64\n",
      " 28  constructorPosition      79 non-null     float64\n",
      " 29  constructorWins          79 non-null     float64\n",
      " 30  q1                       79 non-null     float64\n",
      " 31  q2                       79 non-null     float64\n",
      " 32  q3                       79 non-null     float64\n",
      " 33  driverAgeToday           79 non-null     int64  \n",
      " 34  driverAgeAtRace          79 non-null     int64  \n",
      " 35  weather                  79 non-null     object \n",
      " 36  weatherWarm              79 non-null     int64  \n",
      " 37  weatherCold              79 non-null     int64  \n",
      " 38  weatherDry               79 non-null     int64  \n",
      " 39  weatherWet               79 non-null     int64  \n",
      " 40  weatherCloudy            79 non-null     int64  \n",
      " 41  circuitType              79 non-null     object \n",
      " 42  circuitDirection         79 non-null     object \n",
      " 43  circuitLength            79 non-null     float64\n",
      " 44  circuitLaps              79 non-null     int64  \n",
      " 45  circuitDist              79 non-null     float64\n",
      " 46  qMin                     79 non-null     float64\n",
      " 47  qMax                     79 non-null     float64\n",
      " 48  qAvg                     79 non-null     float64\n",
      " 49  driverAgeStarted         79 non-null     int64  \n",
      " 50  driverExpYear            79 non-null     int64  \n",
      " 51  driverExpRace            79 non-null     int64  \n",
      " 52  driverPodiums            79 non-null     int64  \n",
      " 53  driverPos2               79 non-null     int64  \n",
      " 54  driverPos3               79 non-null     int64  \n",
      " 55  driverPos4               79 non-null     int64  \n",
      " 56  driverPos5               79 non-null     int64  \n",
      " 57  driverPos6               79 non-null     int64  \n",
      " 58  driverPos7               79 non-null     int64  \n",
      " 59  driverPos8               79 non-null     int64  \n",
      " 60  driverPos9               79 non-null     int64  \n",
      " 61  driverPos10              79 non-null     int64  \n",
      " 62  driverPos11              79 non-null     int64  \n",
      " 63  driverPos12              79 non-null     int64  \n",
      " 64  driverPos13              79 non-null     int64  \n",
      " 65  driverPos14              79 non-null     int64  \n",
      " 66  driverPos15              79 non-null     int64  \n",
      " 67  driverPos16              79 non-null     int64  \n",
      " 68  driverPos17              79 non-null     int64  \n",
      " 69  driverPos18              79 non-null     int64  \n",
      " 70  driverExp                79 non-null     float64\n",
      " 71  driverRac                79 non-null     float64\n",
      " 72  driverAwa                79 non-null     float64\n",
      " 73  driverPac                79 non-null     float64\n",
      " 74  driverOvr                79 non-null     float64\n",
      "dtypes: float64(28), int64(35), object(12)\n",
      "memory usage: 46.4+ KB\n"
     ]
    }
   ],
   "source": [
    "df.info()"
   ]
  },
  {
   "cell_type": "markdown",
   "metadata": {},
   "source": [
    "Now we will check if there are any nulls.\n"
   ]
  },
  {
   "cell_type": "code",
   "execution_count": 24,
   "metadata": {},
   "outputs": [
    {
     "data": {
      "text/plain": [
       "carNumber                   0\n",
       "positionGrid                0\n",
       "positionFinal               0\n",
       "pointsDriverEarned          0\n",
       "lapsCompleted               0\n",
       "timeTakenInMillisec        39\n",
       "fastestLap                  3\n",
       "fastestLapRank              0\n",
       "fastestLapTime              3\n",
       "maxSpeed                    3\n",
       "driverRef                   0\n",
       "driverNumber                0\n",
       "driverNationality           0\n",
       "constructorRef              0\n",
       "constructorNationality      0\n",
       "raceYear                    0\n",
       "raceRound                   0\n",
       "grandPrix                   0\n",
       "raceTime                    0\n",
       "circuitRef                  0\n",
       "circuitLocation             0\n",
       "circuitCountry              0\n",
       "circuitLat                  0\n",
       "circuitLng                  0\n",
       "circuitAlt                  0\n",
       "driverStatus                0\n",
       "driverWins                  0\n",
       "pointsConstructorEarned     0\n",
       "constructorPosition         0\n",
       "constructorWins             0\n",
       "q1                          0\n",
       "q2                          0\n",
       "q3                          0\n",
       "driverAgeToday              0\n",
       "driverAgeAtRace             0\n",
       "weather                     0\n",
       "weatherWarm                 0\n",
       "weatherCold                 0\n",
       "weatherDry                  0\n",
       "weatherWet                  0\n",
       "weatherCloudy               0\n",
       "circuitType                 0\n",
       "circuitDirection            0\n",
       "circuitLength               0\n",
       "circuitLaps                 0\n",
       "circuitDist                 0\n",
       "qMin                        0\n",
       "qMax                        0\n",
       "qAvg                        0\n",
       "driverAgeStarted            0\n",
       "driverExpYear               0\n",
       "driverExpRace               0\n",
       "driverPodiums               0\n",
       "driverPos2                  0\n",
       "driverPos3                  0\n",
       "driverPos4                  0\n",
       "driverPos5                  0\n",
       "driverPos6                  0\n",
       "driverPos7                  0\n",
       "driverPos8                  0\n",
       "driverPos9                  0\n",
       "driverPos10                 0\n",
       "driverPos11                 0\n",
       "driverPos12                 0\n",
       "driverPos13                 0\n",
       "driverPos14                 0\n",
       "driverPos15                 0\n",
       "driverPos16                 0\n",
       "driverPos17                 0\n",
       "driverPos18                 0\n",
       "driverExp                   0\n",
       "driverRac                   0\n",
       "driverAwa                   0\n",
       "driverPac                   0\n",
       "driverOvr                   0\n",
       "dtype: int64"
      ]
     },
     "execution_count": 24,
     "metadata": {},
     "output_type": "execute_result"
    }
   ],
   "source": [
    "df.isnull().sum()"
   ]
  },
  {
   "cell_type": "markdown",
   "metadata": {},
   "source": [
    "## Encoding and normalization\n"
   ]
  },
  {
   "cell_type": "markdown",
   "metadata": {},
   "source": [
    "Now we proceed to encode and normalize.\n"
   ]
  },
  {
   "cell_type": "code",
   "execution_count": 25,
   "metadata": {},
   "outputs": [],
   "source": [
    "X = df.drop(\n",
    "    [\n",
    "        \"positionFinal\",\n",
    "        \"pointsDriverEarned\",\n",
    "        \"lapsCompleted\",\n",
    "        \"timeTakenInMillisec\",\n",
    "        \"fastestLap\",\n",
    "        \"fastestLapRank\",\n",
    "        \"fastestLapTime\",\n",
    "        \"maxSpeed\",\n",
    "        \"driverStatus\",\n",
    "        \"pointsConstructorEarned\",\n",
    "        \"constructorPosition\",\n",
    "    ],\n",
    "    axis=1,\n",
    ")\n",
    "\n",
    "enc = LabelEncoder()\n",
    "for c in X.columns:\n",
    "    if X[c].dtype == \"object\":\n",
    "        X[c] = enc.fit_transform(X[c])\n",
    "\n",
    "scaler = RobustScaler()\n",
    "X = pd.DataFrame(scaler.fit_transform(X), index=X.index, columns=X.columns)"
   ]
  },
  {
   "cell_type": "markdown",
   "metadata": {},
   "source": [
    "Finally, we write down the results for next section\n"
   ]
  },
  {
   "cell_type": "code",
   "execution_count": 26,
   "metadata": {},
   "outputs": [],
   "source": [
    "df.to_csv(\"../assets/data/processed/testing.csv\", index=False)\n",
    "X.to_csv(\"../assets/data/processed/testing_X.csv\", index=False)"
   ]
  }
 ],
 "metadata": {
  "kernelspec": {
   "display_name": "Python 3",
   "language": "python",
   "name": "python3"
  },
  "language_info": {
   "codemirror_mode": {
    "name": "ipython",
    "version": 3
   },
   "file_extension": ".py",
   "mimetype": "text/x-python",
   "name": "python",
   "nbconvert_exporter": "python",
   "pygments_lexer": "ipython3",
   "version": "3.10.11"
  }
 },
 "nbformat": 4,
 "nbformat_minor": 2
}
