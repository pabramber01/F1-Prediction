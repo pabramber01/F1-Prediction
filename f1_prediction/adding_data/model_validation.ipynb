{
 "cells": [
  {
   "cell_type": "markdown",
   "metadata": {},
   "source": [
    "# Model validation\n"
   ]
  },
  {
   "cell_type": "markdown",
   "metadata": {},
   "source": [
    "## Attributes to add\n"
   ]
  },
  {
   "cell_type": "markdown",
   "metadata": {},
   "source": [
    "In order to continue trying to improve the model, attributes will be added, specifically:\n",
    "\n",
    "- Weather data\n",
    "- Circuits data\n",
    "- Additional features\n",
    "- Driver ratings data\n",
    "- All data\n",
    "\n",
    "Each of these will be discussed separately in the following sections.\n"
   ]
  }
 ],
 "metadata": {
  "language_info": {
   "name": "python"
  }
 },
 "nbformat": 4,
 "nbformat_minor": 2
}
