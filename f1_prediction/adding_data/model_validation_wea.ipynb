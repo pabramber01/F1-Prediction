{
 "cells": [
  {
   "cell_type": "markdown",
   "metadata": {},
   "source": [
    "# Weather data\n"
   ]
  },
  {
   "cell_type": "markdown",
   "metadata": {},
   "source": [
    "## Dependencies\n"
   ]
  },
  {
   "cell_type": "markdown",
   "metadata": {},
   "source": [
    "The dependencies used are as follows\n"
   ]
  },
  {
   "cell_type": "code",
   "execution_count": 1,
   "metadata": {},
   "outputs": [],
   "source": [
    "from sklearn.preprocessing import LabelEncoder, RobustScaler\n",
    "\n",
    "import pandas as pd\n",
    "\n",
    "pd.set_option(\"display.max_columns\", None)\n",
    "pd.set_option(\"display.max_rows\", None)\n",
    "\n",
    "import warnings\n",
    "\n",
    "warnings.simplefilter(\"ignore\")"
   ]
  },
  {
   "cell_type": "markdown",
   "metadata": {},
   "source": [
    "## Preprocessing\n"
   ]
  },
  {
   "cell_type": "markdown",
   "metadata": {},
   "source": [
    "For the extraction of the weather we will use the urls that provide each race to wikipedia, in an external script that can be found in the github repository. Note that its code is omitted since it is not relevant for the improvement of the model as such.\n"
   ]
  },
  {
   "cell_type": "code",
   "execution_count": 2,
   "metadata": {},
   "outputs": [
    {
     "name": "stdout",
     "output_type": "stream",
     "text": [
      "<class 'pandas.core.frame.DataFrame'>\n",
      "RangeIndex: 7235 entries, 0 to 7234\n",
      "Data columns (total 41 columns):\n",
      " #   Column                   Non-Null Count  Dtype  \n",
      "---  ------                   --------------  -----  \n",
      " 0   carNumber                7235 non-null   float64\n",
      " 1   positionGrid             7235 non-null   int64  \n",
      " 2   positionFinal            7235 non-null   int64  \n",
      " 3   pointsDriverEarned       7235 non-null   float64\n",
      " 4   lapsCompleted            7235 non-null   int64  \n",
      " 5   timeTakenInMillisec      3581 non-null   float64\n",
      " 6   fastestLap               6914 non-null   float64\n",
      " 7   fastestLapRank           7130 non-null   float64\n",
      " 8   fastestLapTime           6914 non-null   float64\n",
      " 9   maxSpeed                 6914 non-null   float64\n",
      " 10  driverRef                7235 non-null   object \n",
      " 11  driverNumber             7235 non-null   float64\n",
      " 12  driverNationality        7235 non-null   object \n",
      " 13  constructorRef           7235 non-null   object \n",
      " 14  constructorNationality   7235 non-null   object \n",
      " 15  raceYear                 7235 non-null   int64  \n",
      " 16  raceRound                7235 non-null   int64  \n",
      " 17  grandPrix                7235 non-null   object \n",
      " 18  raceTime                 7235 non-null   float64\n",
      " 19  circuitRef               7235 non-null   object \n",
      " 20  circuitLocation          7235 non-null   object \n",
      " 21  circuitCountry           7235 non-null   object \n",
      " 22  circuitLat               7235 non-null   float64\n",
      " 23  circuitLng               7235 non-null   float64\n",
      " 24  circuitAlt               7235 non-null   float64\n",
      " 25  driverStatus             7235 non-null   object \n",
      " 26  driverWins               7235 non-null   float64\n",
      " 27  pointsConstructorEarned  7235 non-null   float64\n",
      " 28  constructorPosition      7235 non-null   float64\n",
      " 29  constructorWins          7235 non-null   float64\n",
      " 30  q1                       7235 non-null   float64\n",
      " 31  q2                       7235 non-null   float64\n",
      " 32  q3                       7235 non-null   float64\n",
      " 33  driverAgeToday           7235 non-null   int64  \n",
      " 34  driverAgeAtRace          7235 non-null   int64  \n",
      " 35  weather                  7235 non-null   object \n",
      " 36  weatherWarm              7235 non-null   int64  \n",
      " 37  weatherCold              7235 non-null   int64  \n",
      " 38  weatherDry               7235 non-null   int64  \n",
      " 39  weatherWet               7235 non-null   int64  \n",
      " 40  weatherCloudy            7235 non-null   int64  \n",
      "dtypes: float64(19), int64(12), object(10)\n",
      "memory usage: 2.3+ MB\n"
     ]
    }
   ],
   "source": [
    "df = pd.read_csv(\"../assets/data/processed/base_model.csv\")\n",
    "weather_df = pd.read_csv(\"../assets/data/scraping/weather.csv\")\n",
    "weather_df.rename(columns={\"year\": \"raceYear\", \"round\": \"raceRound\"}, inplace=True)\n",
    "\n",
    "df = df.merge(weather_df, how=\"left\", on=[\"raceYear\", \"raceRound\"])\n",
    "df.info()"
   ]
  },
  {
   "cell_type": "markdown",
   "metadata": {},
   "source": [
    "Since the datatypes are already correct, we will proceed to see if there are any nulls.\n"
   ]
  },
  {
   "cell_type": "code",
   "execution_count": 3,
   "metadata": {},
   "outputs": [
    {
     "data": {
      "text/html": [
       "<div>\n",
       "<style scoped>\n",
       "    .dataframe tbody tr th:only-of-type {\n",
       "        vertical-align: middle;\n",
       "    }\n",
       "\n",
       "    .dataframe tbody tr th {\n",
       "        vertical-align: top;\n",
       "    }\n",
       "\n",
       "    .dataframe thead th {\n",
       "        text-align: right;\n",
       "    }\n",
       "</style>\n",
       "<table border=\"1\" class=\"dataframe\">\n",
       "  <thead>\n",
       "    <tr style=\"text-align: right;\">\n",
       "      <th></th>\n",
       "      <th>raceYear</th>\n",
       "      <th>raceRound</th>\n",
       "      <th>grandPrix</th>\n",
       "    </tr>\n",
       "  </thead>\n",
       "  <tbody>\n",
       "    <tr>\n",
       "      <th>88</th>\n",
       "      <td>2006</td>\n",
       "      <td>5</td>\n",
       "      <td>European Grand Prix</td>\n",
       "    </tr>\n",
       "  </tbody>\n",
       "</table>\n",
       "</div>"
      ],
      "text/plain": [
       "    raceYear  raceRound            grandPrix\n",
       "88      2006          5  European Grand Prix"
      ]
     },
     "execution_count": 3,
     "metadata": {},
     "output_type": "execute_result"
    }
   ],
   "source": [
    "mask = df[\"weather\"] == \"not found\"\n",
    "proyection = [\"raceYear\", \"raceRound\", \"grandPrix\"]\n",
    "\n",
    "df.loc[mask, proyection].drop_duplicates()"
   ]
  },
  {
   "cell_type": "markdown",
   "metadata": {},
   "source": [
    "As it is only one null, it will be solved manually. Specifically, if we change the language of the race wikipedia page to Italian, it already gives us the weather, which is sunny.\n",
    "\n",
    "_Source: https://it.wikipedia.org/wiki/Gran_Premio_d'Europa_2006_\n"
   ]
  },
  {
   "cell_type": "code",
   "execution_count": 4,
   "metadata": {},
   "outputs": [],
   "source": [
    "df.loc[mask, \"weatherWarm\"] = 1\n",
    "df.loc[mask, \"weather\"] = \"Sunny\""
   ]
  },
  {
   "cell_type": "markdown",
   "metadata": {},
   "source": [
    "## Encoding and normalization"
   ]
  },
  {
   "cell_type": "markdown",
   "metadata": {},
   "source": [
    "Once preprocessed, we will see how the models obtained from the previous section perform with these new attributes. Let's not forget that we have to re-encode and re-normalize.\n"
   ]
  },
  {
   "cell_type": "code",
   "execution_count": 5,
   "metadata": {},
   "outputs": [],
   "source": [
    "X = df.drop(\n",
    "    [\n",
    "        \"positionFinal\",\n",
    "        \"pointsDriverEarned\",\n",
    "        \"lapsCompleted\",\n",
    "        \"timeTakenInMillisec\",\n",
    "        \"fastestLap\",\n",
    "        \"fastestLapRank\",\n",
    "        \"fastestLapTime\",\n",
    "        \"maxSpeed\",\n",
    "        \"driverStatus\",\n",
    "        \"pointsConstructorEarned\",\n",
    "        \"constructorPosition\",\n",
    "    ],\n",
    "    axis=1,\n",
    ")\n",
    "\n",
    "enc = LabelEncoder()\n",
    "for c in X.columns:\n",
    "    if X[c].dtype == \"object\":\n",
    "        X[c] = enc.fit_transform(X[c])\n",
    "\n",
    "scaler = RobustScaler()\n",
    "X = pd.DataFrame(scaler.fit_transform(X), index=X.index, columns=X.columns)"
   ]
  },
  {
   "cell_type": "markdown",
   "metadata": {},
   "source": [
    "Finally we write both dataframes for the following sections\n"
   ]
  },
  {
   "cell_type": "code",
   "execution_count": 6,
   "metadata": {},
   "outputs": [],
   "source": [
    "df.to_csv(\"../assets/data/processed/weather.csv\", index=False)\n",
    "X.to_csv(\"../assets/data/processed/weather_X.csv\", index=False)"
   ]
  }
 ],
 "metadata": {
  "kernelspec": {
   "display_name": "Python 3",
   "language": "python",
   "name": "python3"
  },
  "language_info": {
   "codemirror_mode": {
    "name": "ipython",
    "version": 3
   },
   "file_extension": ".py",
   "mimetype": "text/x-python",
   "name": "python",
   "nbconvert_exporter": "python",
   "pygments_lexer": "ipython3",
   "version": "3.10.11"
  }
 },
 "nbformat": 4,
 "nbformat_minor": 2
}
