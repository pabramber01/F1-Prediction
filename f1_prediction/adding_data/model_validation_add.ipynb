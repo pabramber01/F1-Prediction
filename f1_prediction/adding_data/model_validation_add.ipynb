{
 "cells": [
  {
   "cell_type": "markdown",
   "metadata": {},
   "source": [
    "# Additional features\n"
   ]
  },
  {
   "cell_type": "markdown",
   "metadata": {},
   "source": [
    "## Dependencies\n"
   ]
  },
  {
   "cell_type": "markdown",
   "metadata": {},
   "source": [
    "The dependencies used are as follows\n"
   ]
  },
  {
   "cell_type": "code",
   "execution_count": 1,
   "metadata": {},
   "outputs": [],
   "source": [
    "from sklearn.preprocessing import LabelEncoder, RobustScaler\n",
    "\n",
    "import numpy as np\n",
    "import pandas as pd\n",
    "\n",
    "pd.set_option(\"display.max_columns\", None)\n",
    "pd.set_option(\"display.max_rows\", None)\n",
    "\n",
    "import warnings\n",
    "\n",
    "warnings.simplefilter(\"ignore\")"
   ]
  },
  {
   "cell_type": "markdown",
   "metadata": {},
   "source": [
    "## Preprocessing\n"
   ]
  },
  {
   "cell_type": "markdown",
   "metadata": {},
   "source": [
    "The next thing we are going to add is additional features, such as\n",
    "\n",
    "- Average , best and worst qualifying times produced for each driver for each race\n",
    "- Driver experience by year and by race\n",
    "- Driver podiums by season\n",
    "- Driver positions by season (number of times each position as the season progresses)\n"
   ]
  },
  {
   "cell_type": "code",
   "execution_count": 2,
   "metadata": {},
   "outputs": [],
   "source": [
    "df = pd.read_csv(\"../assets/data/processed/circuit.csv\")"
   ]
  },
  {
   "cell_type": "code",
   "execution_count": 3,
   "metadata": {},
   "outputs": [],
   "source": [
    "get_worst_q = lambda row: row[[\"q1\", \"q2\", \"q3\"]].min()\n",
    "get_best_q = lambda row: row[[\"q1\", \"q2\", \"q3\"]].max()\n",
    "get_avg_q = lambda row: row[[\"q1\", \"q2\", \"q3\"]].mean()\n",
    "\n",
    "df[\"qMin\"] = df.apply(get_worst_q, axis=1)\n",
    "df[\"qMax\"] = df.apply(get_best_q, axis=1)\n",
    "df[\"qAvg\"] = df.apply(get_avg_q, axis=1)"
   ]
  },
  {
   "cell_type": "code",
   "execution_count": 4,
   "metadata": {},
   "outputs": [],
   "source": [
    "min_year = df.groupby(\"driverRef\").min()[\"driverAgeAtRace\"]\n",
    "min_year = (min_year.reset_index()).rename(\n",
    "    {\"driverAgeAtRace\": \"driverAgeStarted\"}, axis=1\n",
    ")\n",
    "exp_by_race = lambda x: [\n",
    "    sum(df.loc[:i, \"driverRef\"] == r[\"driverRef\"]) for i, r in x.iterrows()\n",
    "]\n",
    "\n",
    "df = df.merge(min_year, how=\"left\", on=\"driverRef\")\n",
    "df[\"driverExpYear\"] = df[\"driverAgeAtRace\"] - df[\"driverAgeStarted\"]\n",
    "df[\"driverExpRace\"] = exp_by_race(df)"
   ]
  },
  {
   "cell_type": "code",
   "execution_count": 5,
   "metadata": {},
   "outputs": [],
   "source": [
    "podiums = df[df[\"positionFinal\"].isin([1, 2, 3])][\n",
    "    [\"raceYear\", \"raceRound\", \"driverRef\"]\n",
    "]\n",
    "podiums = podiums.groupby(by=[\"raceYear\", \"raceRound\"]).agg({\"driverRef\": \",\".join})\n",
    "\n",
    "df = df.merge(\n",
    "    podiums, how=\"left\", on=[\"raceYear\", \"raceRound\"], suffixes=(\"\", \"Podium\")\n",
    ")\n",
    "df[\"driverIsPodium\"] = df.apply(\n",
    "    lambda x: x[\"driverRef\"] in x[\"driverRefPodium\"], axis=1\n",
    ")\n",
    "df[\"driverPodiums\"] = df.groupby([\"raceYear\", \"driverRef\"])[\"driverIsPodium\"].cumsum()\n",
    "df = df.drop([\"driverRefPodium\", \"driverIsPodium\"], axis=1)\n",
    "\n",
    "years = df[\"raceYear\"].drop_duplicates().to_numpy()\n",
    "drivers = df[\"driverRef\"].drop_duplicates().to_numpy()\n",
    "\n",
    "for year in years:\n",
    "    for driver in drivers:\n",
    "        mask = (df[\"raceYear\"] == year) & (df[\"driverRef\"] == driver)\n",
    "        races = df.loc[mask, \"driverPodiums\"].iloc[:-1]\n",
    "        races.loc[-1] = 0\n",
    "        races.index += 1\n",
    "        races.sort_index(inplace=True)\n",
    "        races = races.to_numpy()\n",
    "        df.loc[mask, \"driverPodiums\"] = races"
   ]
  },
  {
   "cell_type": "code",
   "execution_count": 6,
   "metadata": {},
   "outputs": [],
   "source": [
    "for i in range(2, 19):\n",
    "    position = df[df[\"positionFinal\"].isin([i])][[\"raceYear\", \"raceRound\", \"driverRef\"]]\n",
    "    position = position.groupby(by=[\"raceYear\", \"raceRound\"]).agg(\n",
    "        {\"driverRef\": \",\".join}\n",
    "    )\n",
    "\n",
    "    df = df.merge(\n",
    "        position, how=\"left\", on=[\"raceYear\", \"raceRound\"], suffixes=(\"\", f\"Pos{i}\")\n",
    "    )\n",
    "    df[f\"driverIsPos{i}\"] = df.apply(\n",
    "        lambda x: x[\"driverRef\"] in x[f\"driverRefPos{i}\"], axis=1\n",
    "    )\n",
    "    df[f\"driverPos{i}\"] = df.groupby([\"raceYear\", \"driverRef\"])[\n",
    "        f\"driverIsPos{i}\"\n",
    "    ].cumsum()\n",
    "    df = df.drop([f\"driverRefPos{i}\", f\"driverIsPos{i}\"], axis=1)\n",
    "\n",
    "years = df[\"raceYear\"].drop_duplicates().to_numpy()\n",
    "drivers = df[\"driverRef\"].drop_duplicates().to_numpy()\n",
    "\n",
    "features = [\n",
    "    \"driverPos2\",\n",
    "    \"driverPos3\",\n",
    "    \"driverPos4\",\n",
    "    \"driverPos5\",\n",
    "    \"driverPos6\",\n",
    "    \"driverPos7\",\n",
    "    \"driverPos8\",\n",
    "    \"driverPos9\",\n",
    "    \"driverPos10\",\n",
    "    \"driverPos11\",\n",
    "    \"driverPos12\",\n",
    "    \"driverPos13\",\n",
    "    \"driverPos14\",\n",
    "    \"driverPos15\",\n",
    "    \"driverPos16\",\n",
    "    \"driverPos17\",\n",
    "    \"driverPos18\",\n",
    "]\n",
    "\n",
    "for year in years:\n",
    "    for driver in drivers:\n",
    "        mask = (df[\"raceYear\"] == year) & (df[\"driverRef\"] == driver)\n",
    "        races = df.loc[mask, features].iloc[:-1]\n",
    "        races.loc[-1] = np.zeros(17, dtype=int)\n",
    "        races.index += 1\n",
    "        races.sort_index(inplace=True)\n",
    "        races = races.to_numpy()\n",
    "        df.loc[mask, features] = races"
   ]
  },
  {
   "cell_type": "code",
   "execution_count": 7,
   "metadata": {},
   "outputs": [
    {
     "name": "stdout",
     "output_type": "stream",
     "text": [
      "<class 'pandas.core.frame.DataFrame'>\n",
      "RangeIndex: 7235 entries, 0 to 7234\n",
      "Data columns (total 70 columns):\n",
      " #   Column                   Non-Null Count  Dtype  \n",
      "---  ------                   --------------  -----  \n",
      " 0   carNumber                7235 non-null   float64\n",
      " 1   positionGrid             7235 non-null   int64  \n",
      " 2   positionFinal            7235 non-null   int64  \n",
      " 3   pointsDriverEarned       7235 non-null   float64\n",
      " 4   lapsCompleted            7235 non-null   int64  \n",
      " 5   timeTakenInMillisec      3581 non-null   float64\n",
      " 6   fastestLap               6914 non-null   float64\n",
      " 7   fastestLapRank           7130 non-null   float64\n",
      " 8   fastestLapTime           6914 non-null   float64\n",
      " 9   maxSpeed                 6914 non-null   float64\n",
      " 10  driverRef                7235 non-null   object \n",
      " 11  driverNumber             7235 non-null   float64\n",
      " 12  driverNationality        7235 non-null   object \n",
      " 13  constructorRef           7235 non-null   object \n",
      " 14  constructorNationality   7235 non-null   object \n",
      " 15  raceYear                 7235 non-null   int64  \n",
      " 16  raceRound                7235 non-null   int64  \n",
      " 17  grandPrix                7235 non-null   object \n",
      " 18  raceTime                 7235 non-null   float64\n",
      " 19  circuitRef               7235 non-null   object \n",
      " 20  circuitLocation          7235 non-null   object \n",
      " 21  circuitCountry           7235 non-null   object \n",
      " 22  circuitLat               7235 non-null   float64\n",
      " 23  circuitLng               7235 non-null   float64\n",
      " 24  circuitAlt               7235 non-null   float64\n",
      " 25  driverStatus             7235 non-null   object \n",
      " 26  driverWins               7235 non-null   float64\n",
      " 27  pointsConstructorEarned  7235 non-null   float64\n",
      " 28  constructorPosition      7235 non-null   float64\n",
      " 29  constructorWins          7235 non-null   float64\n",
      " 30  q1                       7235 non-null   float64\n",
      " 31  q2                       7235 non-null   float64\n",
      " 32  q3                       7235 non-null   float64\n",
      " 33  driverAgeToday           7235 non-null   int64  \n",
      " 34  driverAgeAtRace          7235 non-null   int64  \n",
      " 35  weather                  7235 non-null   object \n",
      " 36  weatherWarm              7235 non-null   int64  \n",
      " 37  weatherCold              7235 non-null   int64  \n",
      " 38  weatherDry               7235 non-null   int64  \n",
      " 39  weatherWet               7235 non-null   int64  \n",
      " 40  weatherCloudy            7235 non-null   int64  \n",
      " 41  circuitType              7235 non-null   object \n",
      " 42  circuitDirection         7235 non-null   object \n",
      " 43  circuitLength            7235 non-null   float64\n",
      " 44  circuitLaps              7235 non-null   float64\n",
      " 45  circuitDist              7235 non-null   float64\n",
      " 46  qMin                     7235 non-null   float64\n",
      " 47  qMax                     7235 non-null   float64\n",
      " 48  qAvg                     7235 non-null   float64\n",
      " 49  driverAgeStarted         7235 non-null   int64  \n",
      " 50  driverExpYear            7235 non-null   int64  \n",
      " 51  driverExpRace            7235 non-null   int64  \n",
      " 52  driverPodiums            7235 non-null   int64  \n",
      " 53  driverPos2               7235 non-null   int64  \n",
      " 54  driverPos3               7235 non-null   int64  \n",
      " 55  driverPos4               7235 non-null   int64  \n",
      " 56  driverPos5               7235 non-null   int64  \n",
      " 57  driverPos6               7235 non-null   int64  \n",
      " 58  driverPos7               7235 non-null   int64  \n",
      " 59  driverPos8               7235 non-null   int64  \n",
      " 60  driverPos9               7235 non-null   int64  \n",
      " 61  driverPos10              7235 non-null   int64  \n",
      " 62  driverPos11              7235 non-null   int64  \n",
      " 63  driverPos12              7235 non-null   int64  \n",
      " 64  driverPos13              7235 non-null   int64  \n",
      " 65  driverPos14              7235 non-null   int64  \n",
      " 66  driverPos15              7235 non-null   int64  \n",
      " 67  driverPos16              7235 non-null   int64  \n",
      " 68  driverPos17              7235 non-null   int64  \n",
      " 69  driverPos18              7235 non-null   int64  \n",
      "dtypes: float64(25), int64(33), object(12)\n",
      "memory usage: 3.9+ MB\n"
     ]
    }
   ],
   "source": [
    "df.info()"
   ]
  },
  {
   "cell_type": "markdown",
   "metadata": {},
   "source": [
    "Since the datatypes are already correct, and there is no nulls because they are derivated attributes, we can continue with encoding and normalization.\n"
   ]
  },
  {
   "cell_type": "markdown",
   "metadata": {},
   "source": [
    "## Encoding and normalization\n"
   ]
  },
  {
   "cell_type": "markdown",
   "metadata": {},
   "source": [
    "Once preprocessed, we proceed to re-encode and re-normalize. In addition, we will remove previously added data for comparison purposes.\n"
   ]
  },
  {
   "cell_type": "code",
   "execution_count": 8,
   "metadata": {},
   "outputs": [],
   "source": [
    "X = df.drop(\n",
    "    [\n",
    "        \"positionFinal\",\n",
    "        \"pointsDriverEarned\",\n",
    "        \"lapsCompleted\",\n",
    "        \"timeTakenInMillisec\",\n",
    "        \"fastestLap\",\n",
    "        \"fastestLapRank\",\n",
    "        \"fastestLapTime\",\n",
    "        \"maxSpeed\",\n",
    "        \"driverStatus\",\n",
    "        \"pointsConstructorEarned\",\n",
    "        \"constructorPosition\",\n",
    "        \"weather\",\n",
    "        \"weatherWarm\",\n",
    "        \"weatherCold\",\n",
    "        \"weatherDry\",\n",
    "        \"weatherWet\",\n",
    "        \"weatherCloudy\",\n",
    "        \"circuitType\",\n",
    "        \"circuitDirection\",\n",
    "        \"circuitLength\",\n",
    "        \"circuitLaps\",\n",
    "        \"circuitDist\",\n",
    "    ],\n",
    "    axis=1,\n",
    ")\n",
    "\n",
    "enc = LabelEncoder()\n",
    "for c in X.columns:\n",
    "    if X[c].dtype == \"object\":\n",
    "        X[c] = enc.fit_transform(X[c])\n",
    "\n",
    "scaler = RobustScaler()\n",
    "X = pd.DataFrame(scaler.fit_transform(X), index=X.index, columns=X.columns)"
   ]
  },
  {
   "cell_type": "markdown",
   "metadata": {},
   "source": [
    "Finally we write both dataframes for the following sections\n"
   ]
  },
  {
   "cell_type": "code",
   "execution_count": 9,
   "metadata": {},
   "outputs": [],
   "source": [
    "df.to_csv(\"../assets/data/processed/additional.csv\", index=False)\n",
    "X.to_csv(\"../assets/data/processed/additional_X.csv\", index=False)"
   ]
  }
 ],
 "metadata": {
  "kernelspec": {
   "display_name": "Python 3",
   "language": "python",
   "name": "python3"
  },
  "language_info": {
   "codemirror_mode": {
    "name": "ipython",
    "version": 3
   },
   "file_extension": ".py",
   "mimetype": "text/x-python",
   "name": "python",
   "nbconvert_exporter": "python",
   "pygments_lexer": "ipython3",
   "version": "3.10.11"
  }
 },
 "nbformat": 4,
 "nbformat_minor": 2
}
