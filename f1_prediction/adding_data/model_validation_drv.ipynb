{
 "cells": [
  {
   "cell_type": "markdown",
   "metadata": {},
   "source": [
    "# Driver ratings data\n"
   ]
  },
  {
   "cell_type": "markdown",
   "metadata": {},
   "source": [
    "## Dependencies\n"
   ]
  },
  {
   "cell_type": "markdown",
   "metadata": {},
   "source": [
    "The dependencies used are as follows\n"
   ]
  },
  {
   "cell_type": "code",
   "execution_count": 1,
   "metadata": {},
   "outputs": [],
   "source": [
    "from sklearn.preprocessing import LabelEncoder, RobustScaler\n",
    "\n",
    "import pandas as pd\n",
    "import numpy as np\n",
    "\n",
    "pd.set_option(\"display.max_columns\", None)\n",
    "pd.set_option(\"display.max_rows\", None)\n",
    "\n",
    "import warnings\n",
    "\n",
    "warnings.simplefilter(\"ignore\")"
   ]
  },
  {
   "cell_type": "markdown",
   "metadata": {},
   "source": [
    "## Preprocessing\n"
   ]
  },
  {
   "cell_type": "markdown",
   "metadata": {},
   "source": [
    "The next thing we are going to add driver ratings. These ratings are taken from the official F1 game of ea, which began to be created from 2020, so we do not have more historical. Therefore, for the treatment of nulls, what we will do is normalize the range of the driver's experience to the previously calculated range based on the number of races, and associate the rest of the attributes with an average of the nearest neighbors based on that experience.\n",
    "\n",
    "In case you want to consult the urls used, you can check the script as there are several of them.\n"
   ]
  },
  {
   "cell_type": "code",
   "execution_count": 2,
   "metadata": {},
   "outputs": [],
   "source": [
    "df = pd.read_csv(\"../assets/data/processed/additional.csv\")\n",
    "driver_ratings_df = pd.read_csv(\"../assets/data/scraping/driver_ratings_ea.csv\")"
   ]
  },
  {
   "cell_type": "code",
   "execution_count": 3,
   "metadata": {},
   "outputs": [],
   "source": [
    "mnm = min(driver_ratings_df[\"driverExp\"])\n",
    "rg = max(driver_ratings_df[\"driverExp\"]) - mnm\n",
    "arr = (driver_ratings_df[\"driverExp\"] - mnm) / rg\n",
    "rg2 = df[\"driverExpRace\"].max() - 1\n",
    "normalized = (arr * rg2) + 1\n",
    "\n",
    "driver_ratings_df[\"driverExp\"] = round(normalized)"
   ]
  },
  {
   "cell_type": "code",
   "execution_count": 4,
   "metadata": {},
   "outputs": [],
   "source": [
    "for year, driver, exp, rac, awa, pac, ovr in driver_ratings_df.itertuples(index=False):\n",
    "    mask = (df[\"raceYear\"] == int(year)) & (\n",
    "        df[\"driverRef\"].apply(lambda x: x in driver)\n",
    "    )\n",
    "\n",
    "    df.loc[mask, \"driverExp\"] = exp\n",
    "    df.loc[mask, \"driverRac\"] = rac\n",
    "    df.loc[mask, \"driverAwa\"] = awa\n",
    "    df.loc[mask, \"driverPac\"] = pac\n",
    "    df.loc[mask, \"driverOvr\"] = ovr"
   ]
  },
  {
   "cell_type": "code",
   "execution_count": 5,
   "metadata": {},
   "outputs": [],
   "source": [
    "n_features = 5\n",
    "n_neighbors = 5\n",
    "\n",
    "driver_exp = dict()\n",
    "\n",
    "for e in range(1, df[\"driverExpRace\"].max() + 1):\n",
    "    close_exp = sorted(driver_ratings_df.to_numpy(), key=lambda x: np.abs(x[2] - e))[\n",
    "        :n_neighbors\n",
    "    ]\n",
    "    avg_ratings = []\n",
    "    for i in range(2, n_features + 2):\n",
    "        ratings = []\n",
    "        for j in range(n_neighbors):\n",
    "            ratings.append(close_exp[j][i])\n",
    "        avg_ratings.append(round(sum(ratings) / n_neighbors))\n",
    "    driver_exp[e] = avg_ratings\n",
    "\n",
    "m = df[\"driverOvr\"].isnull()\n",
    "p = \"driverExpRace\"\n",
    "df[\"driverExp\"] = df[\"driverExp\"].fillna(df.loc[m, p].apply(lambda x: driver_exp[x][0]))\n",
    "df[\"driverRac\"] = df[\"driverRac\"].fillna(df.loc[m, p].apply(lambda x: driver_exp[x][1]))\n",
    "df[\"driverAwa\"] = df[\"driverAwa\"].fillna(df.loc[m, p].apply(lambda x: driver_exp[x][2]))\n",
    "df[\"driverPac\"] = df[\"driverPac\"].fillna(df.loc[m, p].apply(lambda x: driver_exp[x][3]))\n",
    "df[\"driverOvr\"] = df[\"driverOvr\"].fillna(df.loc[m, p].apply(lambda x: driver_exp[x][4]))"
   ]
  },
  {
   "cell_type": "markdown",
   "metadata": {},
   "source": [
    "Once the mapping is done, let's check the datatypes.\n"
   ]
  },
  {
   "cell_type": "code",
   "execution_count": 6,
   "metadata": {},
   "outputs": [
    {
     "name": "stdout",
     "output_type": "stream",
     "text": [
      "<class 'pandas.core.frame.DataFrame'>\n",
      "RangeIndex: 7235 entries, 0 to 7234\n",
      "Data columns (total 75 columns):\n",
      " #   Column                   Non-Null Count  Dtype  \n",
      "---  ------                   --------------  -----  \n",
      " 0   carNumber                7235 non-null   float64\n",
      " 1   positionGrid             7235 non-null   int64  \n",
      " 2   positionFinal            7235 non-null   int64  \n",
      " 3   pointsDriverEarned       7235 non-null   float64\n",
      " 4   lapsCompleted            7235 non-null   int64  \n",
      " 5   timeTakenInMillisec      3581 non-null   float64\n",
      " 6   fastestLap               6914 non-null   float64\n",
      " 7   fastestLapRank           7130 non-null   float64\n",
      " 8   fastestLapTime           6914 non-null   float64\n",
      " 9   maxSpeed                 6914 non-null   float64\n",
      " 10  driverRef                7235 non-null   object \n",
      " 11  driverNumber             7235 non-null   float64\n",
      " 12  driverNationality        7235 non-null   object \n",
      " 13  constructorRef           7235 non-null   object \n",
      " 14  constructorNationality   7235 non-null   object \n",
      " 15  raceYear                 7235 non-null   int64  \n",
      " 16  raceRound                7235 non-null   int64  \n",
      " 17  grandPrix                7235 non-null   object \n",
      " 18  raceTime                 7235 non-null   float64\n",
      " 19  circuitRef               7235 non-null   object \n",
      " 20  circuitLocation          7235 non-null   object \n",
      " 21  circuitCountry           7235 non-null   object \n",
      " 22  circuitLat               7235 non-null   float64\n",
      " 23  circuitLng               7235 non-null   float64\n",
      " 24  circuitAlt               7235 non-null   float64\n",
      " 25  driverStatus             7235 non-null   object \n",
      " 26  driverWins               7235 non-null   float64\n",
      " 27  pointsConstructorEarned  7235 non-null   float64\n",
      " 28  constructorPosition      7235 non-null   float64\n",
      " 29  constructorWins          7235 non-null   float64\n",
      " 30  q1                       7235 non-null   float64\n",
      " 31  q2                       7235 non-null   float64\n",
      " 32  q3                       7235 non-null   float64\n",
      " 33  driverAgeToday           7235 non-null   int64  \n",
      " 34  driverAgeAtRace          7235 non-null   int64  \n",
      " 35  weather                  7235 non-null   object \n",
      " 36  weatherWarm              7235 non-null   int64  \n",
      " 37  weatherCold              7235 non-null   int64  \n",
      " 38  weatherDry               7235 non-null   int64  \n",
      " 39  weatherWet               7235 non-null   int64  \n",
      " 40  weatherCloudy            7235 non-null   int64  \n",
      " 41  circuitType              7235 non-null   object \n",
      " 42  circuitDirection         7235 non-null   object \n",
      " 43  circuitLength            7235 non-null   float64\n",
      " 44  circuitLaps              7235 non-null   float64\n",
      " 45  circuitDist              7235 non-null   float64\n",
      " 46  qMin                     7235 non-null   float64\n",
      " 47  qMax                     7235 non-null   float64\n",
      " 48  qAvg                     7235 non-null   float64\n",
      " 49  driverAgeStarted         7235 non-null   int64  \n",
      " 50  driverExpYear            7235 non-null   int64  \n",
      " 51  driverExpRace            7235 non-null   int64  \n",
      " 52  driverPodiums            7235 non-null   int64  \n",
      " 53  driverPos2               7235 non-null   int64  \n",
      " 54  driverPos3               7235 non-null   int64  \n",
      " 55  driverPos4               7235 non-null   int64  \n",
      " 56  driverPos5               7235 non-null   int64  \n",
      " 57  driverPos6               7235 non-null   int64  \n",
      " 58  driverPos7               7235 non-null   int64  \n",
      " 59  driverPos8               7235 non-null   int64  \n",
      " 60  driverPos9               7235 non-null   int64  \n",
      " 61  driverPos10              7235 non-null   int64  \n",
      " 62  driverPos11              7235 non-null   int64  \n",
      " 63  driverPos12              7235 non-null   int64  \n",
      " 64  driverPos13              7235 non-null   int64  \n",
      " 65  driverPos14              7235 non-null   int64  \n",
      " 66  driverPos15              7235 non-null   int64  \n",
      " 67  driverPos16              7235 non-null   int64  \n",
      " 68  driverPos17              7235 non-null   int64  \n",
      " 69  driverPos18              7235 non-null   int64  \n",
      " 70  driverExp                7235 non-null   float64\n",
      " 71  driverRac                7235 non-null   float64\n",
      " 72  driverAwa                7235 non-null   float64\n",
      " 73  driverPac                7235 non-null   float64\n",
      " 74  driverOvr                7235 non-null   float64\n",
      "dtypes: float64(30), int64(33), object(12)\n",
      "memory usage: 4.1+ MB\n"
     ]
    }
   ],
   "source": [
    "df.info()"
   ]
  },
  {
   "cell_type": "markdown",
   "metadata": {},
   "source": [
    "Now check if there are any nulls.\n"
   ]
  },
  {
   "cell_type": "code",
   "execution_count": 7,
   "metadata": {},
   "outputs": [
    {
     "data": {
      "text/plain": [
       "carNumber                     0\n",
       "positionGrid                  0\n",
       "positionFinal                 0\n",
       "pointsDriverEarned            0\n",
       "lapsCompleted                 0\n",
       "timeTakenInMillisec        3654\n",
       "fastestLap                  321\n",
       "fastestLapRank              105\n",
       "fastestLapTime              321\n",
       "maxSpeed                    321\n",
       "driverRef                     0\n",
       "driverNumber                  0\n",
       "driverNationality             0\n",
       "constructorRef                0\n",
       "constructorNationality        0\n",
       "raceYear                      0\n",
       "raceRound                     0\n",
       "grandPrix                     0\n",
       "raceTime                      0\n",
       "circuitRef                    0\n",
       "circuitLocation               0\n",
       "circuitCountry                0\n",
       "circuitLat                    0\n",
       "circuitLng                    0\n",
       "circuitAlt                    0\n",
       "driverStatus                  0\n",
       "driverWins                    0\n",
       "pointsConstructorEarned       0\n",
       "constructorPosition           0\n",
       "constructorWins               0\n",
       "q1                            0\n",
       "q2                            0\n",
       "q3                            0\n",
       "driverAgeToday                0\n",
       "driverAgeAtRace               0\n",
       "weather                       0\n",
       "weatherWarm                   0\n",
       "weatherCold                   0\n",
       "weatherDry                    0\n",
       "weatherWet                    0\n",
       "weatherCloudy                 0\n",
       "circuitType                   0\n",
       "circuitDirection              0\n",
       "circuitLength                 0\n",
       "circuitLaps                   0\n",
       "circuitDist                   0\n",
       "qMin                          0\n",
       "qMax                          0\n",
       "qAvg                          0\n",
       "driverAgeStarted              0\n",
       "driverExpYear                 0\n",
       "driverExpRace                 0\n",
       "driverPodiums                 0\n",
       "driverPos2                    0\n",
       "driverPos3                    0\n",
       "driverPos4                    0\n",
       "driverPos5                    0\n",
       "driverPos6                    0\n",
       "driverPos7                    0\n",
       "driverPos8                    0\n",
       "driverPos9                    0\n",
       "driverPos10                   0\n",
       "driverPos11                   0\n",
       "driverPos12                   0\n",
       "driverPos13                   0\n",
       "driverPos14                   0\n",
       "driverPos15                   0\n",
       "driverPos16                   0\n",
       "driverPos17                   0\n",
       "driverPos18                   0\n",
       "driverExp                     0\n",
       "driverRac                     0\n",
       "driverAwa                     0\n",
       "driverPac                     0\n",
       "driverOvr                     0\n",
       "dtype: int64"
      ]
     },
     "execution_count": 7,
     "metadata": {},
     "output_type": "execute_result"
    }
   ],
   "source": [
    "df.isnull().sum()"
   ]
  },
  {
   "cell_type": "markdown",
   "metadata": {},
   "source": [
    "## Encoding and normalization\n"
   ]
  },
  {
   "cell_type": "markdown",
   "metadata": {},
   "source": [
    "We proceed to re-encode and re-normalize. In addition, we will remove previously added data for comparison purposes.\n"
   ]
  },
  {
   "cell_type": "code",
   "execution_count": 8,
   "metadata": {},
   "outputs": [],
   "source": [
    "X = df.drop(\n",
    "    [\n",
    "        \"positionFinal\",\n",
    "        \"pointsDriverEarned\",\n",
    "        \"lapsCompleted\",\n",
    "        \"timeTakenInMillisec\",\n",
    "        \"fastestLap\",\n",
    "        \"fastestLapRank\",\n",
    "        \"fastestLapTime\",\n",
    "        \"maxSpeed\",\n",
    "        \"driverStatus\",\n",
    "        \"pointsConstructorEarned\",\n",
    "        \"constructorPosition\",\n",
    "        \"weather\",\n",
    "        \"weatherWarm\",\n",
    "        \"weatherCold\",\n",
    "        \"weatherDry\",\n",
    "        \"weatherWet\",\n",
    "        \"weatherCloudy\",\n",
    "        \"circuitType\",\n",
    "        \"circuitDirection\",\n",
    "        \"circuitLength\",\n",
    "        \"circuitLaps\",\n",
    "        \"circuitDist\",\n",
    "        \"qMin\",\n",
    "        \"qMax\",\n",
    "        \"qAvg\",\n",
    "        \"driverAgeStarted\",\n",
    "        \"driverExpYear\",\n",
    "        \"driverExpRace\",\n",
    "        \"driverPodiums\",\n",
    "        \"driverPos2\",\n",
    "        \"driverPos3\",\n",
    "        \"driverPos4\",\n",
    "        \"driverPos5\",\n",
    "        \"driverPos6\",\n",
    "        \"driverPos7\",\n",
    "        \"driverPos8\",\n",
    "        \"driverPos9\",\n",
    "        \"driverPos10\",\n",
    "        \"driverPos11\",\n",
    "        \"driverPos12\",\n",
    "        \"driverPos13\",\n",
    "        \"driverPos14\",\n",
    "        \"driverPos15\",\n",
    "        \"driverPos16\",\n",
    "        \"driverPos17\",\n",
    "        \"driverPos18\",\n",
    "    ],\n",
    "    axis=1,\n",
    ")\n",
    "\n",
    "enc = LabelEncoder()\n",
    "for c in X.columns:\n",
    "    if X[c].dtype == \"object\":\n",
    "        X[c] = enc.fit_transform(X[c])\n",
    "\n",
    "scaler = RobustScaler()\n",
    "X = pd.DataFrame(scaler.fit_transform(X), index=X.index, columns=X.columns)"
   ]
  },
  {
   "cell_type": "markdown",
   "metadata": {},
   "source": [
    "Finally we write both dataframes for the following sections\n"
   ]
  },
  {
   "cell_type": "code",
   "execution_count": 9,
   "metadata": {},
   "outputs": [],
   "source": [
    "df.to_csv(\"../assets/data/processed/driver_ratings.csv\", index=False)\n",
    "X.to_csv(\"../assets/data/processed/driver_ratings_X.csv\", index=False)"
   ]
  }
 ],
 "metadata": {
  "kernelspec": {
   "display_name": "Python 3",
   "language": "python",
   "name": "python3"
  },
  "language_info": {
   "codemirror_mode": {
    "name": "ipython",
    "version": 3
   },
   "file_extension": ".py",
   "mimetype": "text/x-python",
   "name": "python",
   "nbconvert_exporter": "python",
   "pygments_lexer": "ipython3",
   "version": "3.10.11"
  }
 },
 "nbformat": 4,
 "nbformat_minor": 2
}
