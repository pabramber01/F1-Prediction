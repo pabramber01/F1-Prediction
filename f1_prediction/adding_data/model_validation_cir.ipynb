{
 "cells": [
  {
   "cell_type": "markdown",
   "metadata": {},
   "source": [
    "# Circuit data\n"
   ]
  },
  {
   "cell_type": "markdown",
   "metadata": {},
   "source": [
    "## Dependencies\n"
   ]
  },
  {
   "cell_type": "markdown",
   "metadata": {},
   "source": [
    "The dependencies used are as follows\n"
   ]
  },
  {
   "cell_type": "code",
   "execution_count": 1,
   "metadata": {},
   "outputs": [],
   "source": [
    "from sklearn.preprocessing import LabelEncoder, RobustScaler\n",
    "\n",
    "import pandas as pd\n",
    "import numpy as np\n",
    "\n",
    "pd.set_option(\"display.max_columns\", None)\n",
    "pd.set_option(\"display.max_rows\", None)\n",
    "\n",
    "import warnings\n",
    "\n",
    "warnings.simplefilter(\"ignore\")"
   ]
  },
  {
   "cell_type": "markdown",
   "metadata": {},
   "source": [
    "## Preprocessing\n"
   ]
  },
  {
   "cell_type": "markdown",
   "metadata": {},
   "source": [
    "The next thing we are going to add is more data related to the circuits. In this case, the urls of each race will be used to get some data, as well as a compilation of the circuits, which can be found at the following link.\n",
    "\n",
    "_Source: https://en.wikipedia.org/wiki/List_of_Formula_One_circuits_\n"
   ]
  },
  {
   "cell_type": "code",
   "execution_count": 2,
   "metadata": {},
   "outputs": [
    {
     "name": "stdout",
     "output_type": "stream",
     "text": [
      "<class 'pandas.core.frame.DataFrame'>\n",
      "RangeIndex: 7235 entries, 0 to 7234\n",
      "Data columns (total 46 columns):\n",
      " #   Column                   Non-Null Count  Dtype  \n",
      "---  ------                   --------------  -----  \n",
      " 0   carNumber                7235 non-null   float64\n",
      " 1   positionGrid             7235 non-null   int64  \n",
      " 2   positionFinal            7235 non-null   int64  \n",
      " 3   pointsDriverEarned       7235 non-null   float64\n",
      " 4   lapsCompleted            7235 non-null   int64  \n",
      " 5   timeTakenInMillisec      3581 non-null   float64\n",
      " 6   fastestLap               6914 non-null   float64\n",
      " 7   fastestLapRank           7130 non-null   float64\n",
      " 8   fastestLapTime           6914 non-null   float64\n",
      " 9   maxSpeed                 6914 non-null   float64\n",
      " 10  driverRef                7235 non-null   object \n",
      " 11  driverNumber             7235 non-null   float64\n",
      " 12  driverNationality        7235 non-null   object \n",
      " 13  constructorRef           7235 non-null   object \n",
      " 14  constructorNationality   7235 non-null   object \n",
      " 15  raceYear                 7235 non-null   int64  \n",
      " 16  raceRound                7235 non-null   int64  \n",
      " 17  grandPrix                7235 non-null   object \n",
      " 18  raceTime                 7235 non-null   float64\n",
      " 19  circuitRef               7235 non-null   object \n",
      " 20  circuitLocation          7235 non-null   object \n",
      " 21  circuitCountry           7235 non-null   object \n",
      " 22  circuitLat               7235 non-null   float64\n",
      " 23  circuitLng               7235 non-null   float64\n",
      " 24  circuitAlt               7235 non-null   float64\n",
      " 25  driverStatus             7235 non-null   object \n",
      " 26  driverWins               7235 non-null   float64\n",
      " 27  pointsConstructorEarned  7235 non-null   float64\n",
      " 28  constructorPosition      7235 non-null   float64\n",
      " 29  constructorWins          7235 non-null   float64\n",
      " 30  q1                       7235 non-null   float64\n",
      " 31  q2                       7235 non-null   float64\n",
      " 32  q3                       7235 non-null   float64\n",
      " 33  driverAgeToday           7235 non-null   int64  \n",
      " 34  driverAgeAtRace          7235 non-null   int64  \n",
      " 35  weather                  7235 non-null   object \n",
      " 36  weatherWarm              7235 non-null   int64  \n",
      " 37  weatherCold              7235 non-null   int64  \n",
      " 38  weatherDry               7235 non-null   int64  \n",
      " 39  weatherWet               7235 non-null   int64  \n",
      " 40  weatherCloudy            7235 non-null   int64  \n",
      " 41  circuitType              7235 non-null   object \n",
      " 42  circuitDirection         7235 non-null   object \n",
      " 43  circuitLength            7235 non-null   float64\n",
      " 44  circuitLaps              7235 non-null   object \n",
      " 45  circuitDist              7235 non-null   object \n",
      "dtypes: float64(20), int64(12), object(14)\n",
      "memory usage: 2.5+ MB\n"
     ]
    }
   ],
   "source": [
    "df = pd.read_csv(\"../assets/data/processed/weather.csv\")\n",
    "circuits_plus_df = pd.read_csv(\"../assets/data/scraping/circuits_plus.csv\")\n",
    "circuits_plusplus_df = pd.read_csv(\"../assets/data/scraping/circuits_plusplus.csv\")\n",
    "\n",
    "df = df.merge(circuits_plus_df, how=\"left\", on=[\"circuitRef\"])\n",
    "df = df.merge(circuits_plusplus_df, how=\"left\", on=[\"circuitRef\"])\n",
    "\n",
    "df.info()"
   ]
  },
  {
   "cell_type": "markdown",
   "metadata": {},
   "source": [
    "First, we will change the datatypes.\n"
   ]
  },
  {
   "cell_type": "code",
   "execution_count": 3,
   "metadata": {},
   "outputs": [],
   "source": [
    "numbers = [\"circuitLaps\", \"circuitDist\"]\n",
    "for n in numbers:\n",
    "    df[n] = pd.to_numeric(df[n], errors=\"coerce\")"
   ]
  },
  {
   "cell_type": "markdown",
   "metadata": {},
   "source": [
    "Now that the datatypes are correct, we will proceed to see if there are any nulls.\n"
   ]
  },
  {
   "cell_type": "code",
   "execution_count": 4,
   "metadata": {},
   "outputs": [
    {
     "data": {
      "text/plain": [
       "carNumber                     0\n",
       "positionGrid                  0\n",
       "positionFinal                 0\n",
       "pointsDriverEarned            0\n",
       "lapsCompleted                 0\n",
       "timeTakenInMillisec        3654\n",
       "fastestLap                  321\n",
       "fastestLapRank              105\n",
       "fastestLapTime              321\n",
       "maxSpeed                    321\n",
       "driverRef                     0\n",
       "driverNumber                  0\n",
       "driverNationality             0\n",
       "constructorRef                0\n",
       "constructorNationality        0\n",
       "raceYear                      0\n",
       "raceRound                     0\n",
       "grandPrix                     0\n",
       "raceTime                      0\n",
       "circuitRef                    0\n",
       "circuitLocation               0\n",
       "circuitCountry                0\n",
       "circuitLat                    0\n",
       "circuitLng                    0\n",
       "circuitAlt                    0\n",
       "driverStatus                  0\n",
       "driverWins                    0\n",
       "pointsConstructorEarned       0\n",
       "constructorPosition           0\n",
       "constructorWins               0\n",
       "q1                            0\n",
       "q2                            0\n",
       "q3                            0\n",
       "driverAgeToday                0\n",
       "driverAgeAtRace               0\n",
       "weather                       0\n",
       "weatherWarm                   0\n",
       "weatherCold                   0\n",
       "weatherDry                    0\n",
       "weatherWet                    0\n",
       "weatherCloudy                 0\n",
       "circuitType                   0\n",
       "circuitDirection              0\n",
       "circuitLength                 0\n",
       "circuitLaps                  44\n",
       "circuitDist                  44\n",
       "dtype: int64"
      ]
     },
     "execution_count": 4,
     "metadata": {},
     "output_type": "execute_result"
    }
   ],
   "source": [
    "df.isnull().sum()"
   ]
  },
  {
   "cell_type": "code",
   "execution_count": 5,
   "metadata": {},
   "outputs": [
    {
     "data": {
      "text/html": [
       "<div>\n",
       "<style scoped>\n",
       "    .dataframe tbody tr th:only-of-type {\n",
       "        vertical-align: middle;\n",
       "    }\n",
       "\n",
       "    .dataframe tbody tr th {\n",
       "        vertical-align: top;\n",
       "    }\n",
       "\n",
       "    .dataframe thead th {\n",
       "        text-align: right;\n",
       "    }\n",
       "</style>\n",
       "<table border=\"1\" class=\"dataframe\">\n",
       "  <thead>\n",
       "    <tr style=\"text-align: right;\">\n",
       "      <th></th>\n",
       "      <th>circuitRef</th>\n",
       "    </tr>\n",
       "  </thead>\n",
       "  <tbody>\n",
       "    <tr>\n",
       "      <th>198</th>\n",
       "      <td>indianapolis</td>\n",
       "    </tr>\n",
       "  </tbody>\n",
       "</table>\n",
       "</div>"
      ],
      "text/plain": [
       "       circuitRef\n",
       "198  indianapolis"
      ]
     },
     "execution_count": 5,
     "metadata": {},
     "output_type": "execute_result"
    }
   ],
   "source": [
    "mask = df[\"circuitLaps\"].isnull()\n",
    "proyection = [\"circuitRef\"]\n",
    "\n",
    "df.loc[mask, proyection].drop_duplicates()"
   ]
  },
  {
   "cell_type": "markdown",
   "metadata": {},
   "source": [
    "As it is only one null, it will be solved manually. Specifically, if we change the language of the race wikipedia page to Spanish, it already gives us the missing data, which is 73 laps and 306.041 km.\n",
    "\n",
    "_Source: https://es.wikipedia.org/wiki/Indianapolis_Motor_Speedway_\n"
   ]
  },
  {
   "cell_type": "code",
   "execution_count": 6,
   "metadata": {},
   "outputs": [],
   "source": [
    "df.loc[df[\"circuitLaps\"].isnull(), \"circuitLaps\"] = np.float64(73)\n",
    "df.loc[df[\"circuitDist\"].isnull(), \"circuitDist\"] = np.float64(306.041)"
   ]
  },
  {
   "cell_type": "markdown",
   "metadata": {},
   "source": [
    "## Encoding and normalization\n"
   ]
  },
  {
   "cell_type": "markdown",
   "metadata": {},
   "source": [
    "Once preprocessed, we proceed to re-encode and re-normalize. In addition, we will remove previously added data for comparison purposes.\n"
   ]
  },
  {
   "cell_type": "code",
   "execution_count": 7,
   "metadata": {},
   "outputs": [],
   "source": [
    "X = df.drop(\n",
    "    [\n",
    "        \"positionFinal\",\n",
    "        \"pointsDriverEarned\",\n",
    "        \"lapsCompleted\",\n",
    "        \"timeTakenInMillisec\",\n",
    "        \"fastestLap\",\n",
    "        \"fastestLapRank\",\n",
    "        \"fastestLapTime\",\n",
    "        \"maxSpeed\",\n",
    "        \"driverStatus\",\n",
    "        \"pointsConstructorEarned\",\n",
    "        \"constructorPosition\",\n",
    "        \"weather\",\n",
    "        \"weatherWarm\",\n",
    "        \"weatherCold\",\n",
    "        \"weatherDry\",\n",
    "        \"weatherWet\",\n",
    "        \"weatherCloudy\",\n",
    "    ],\n",
    "    axis=1,\n",
    ")\n",
    "\n",
    "enc = LabelEncoder()\n",
    "for c in X.columns:\n",
    "    if X[c].dtype == \"object\":\n",
    "        X[c] = enc.fit_transform(X[c])\n",
    "\n",
    "\n",
    "scaler = RobustScaler()\n",
    "X = pd.DataFrame(scaler.fit_transform(X), index=X.index, columns=X.columns)"
   ]
  },
  {
   "cell_type": "markdown",
   "metadata": {},
   "source": [
    "Finally we write both dataframes for the following sections\n"
   ]
  },
  {
   "cell_type": "code",
   "execution_count": 8,
   "metadata": {},
   "outputs": [],
   "source": [
    "df.to_csv(\"../assets/data/processed/circuit.csv\", index=False)\n",
    "X.to_csv(\"../assets/data/processed/circuit_X.csv\", index=False)"
   ]
  }
 ],
 "metadata": {
  "kernelspec": {
   "display_name": "Python 3",
   "language": "python",
   "name": "python3"
  },
  "language_info": {
   "codemirror_mode": {
    "name": "ipython",
    "version": 3
   },
   "file_extension": ".py",
   "mimetype": "text/x-python",
   "name": "python",
   "nbconvert_exporter": "python",
   "pygments_lexer": "ipython3",
   "version": "3.10.11"
  }
 },
 "nbformat": 4,
 "nbformat_minor": 2
}
