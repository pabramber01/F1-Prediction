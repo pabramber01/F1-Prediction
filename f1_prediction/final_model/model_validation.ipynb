{
 "cells": [
  {
   "cell_type": "markdown",
   "metadata": {},
   "source": [
    "# Model validation\n"
   ]
  },
  {
   "cell_type": "markdown",
   "metadata": {},
   "source": [
    "## Dependencies\n"
   ]
  },
  {
   "cell_type": "markdown",
   "metadata": {},
   "source": [
    "The dependencies used are as follows\n"
   ]
  },
  {
   "cell_type": "code",
   "execution_count": 1,
   "metadata": {},
   "outputs": [],
   "source": [
    "from sklearn.preprocessing import LabelEncoder, RobustScaler\n",
    "\n",
    "import pandas as pd\n",
    "\n",
    "pd.set_option(\"display.max_columns\", None)\n",
    "pd.set_option(\"display.max_rows\", None)\n",
    "\n",
    "import warnings\n",
    "\n",
    "warnings.simplefilter(\"ignore\")"
   ]
  },
  {
   "cell_type": "markdown",
   "metadata": {},
   "source": [
    "## Improvements\n"
   ]
  },
  {
   "cell_type": "markdown",
   "metadata": {},
   "source": [
    "For the final model we will combine everything previously done in a single model. Specifically:\n",
    "\n",
    "- All new added data,\n",
    "- the manual outlier treatment, and\n",
    "- all the models used, including the last 3 related to XGBoost\n",
    "\n",
    "For this, we will start from the data in adding_data.csv and remove the outliers again. Note that the \"qid\" column will always be created prior to the ranker model, because if we create it before normalizing it will give problems in that model and if we create it after normalizing it will affect other models such as KNN and MLP.\n"
   ]
  },
  {
   "cell_type": "markdown",
   "metadata": {},
   "source": [
    "## Outliers manual treatment\n"
   ]
  },
  {
   "cell_type": "markdown",
   "metadata": {},
   "source": [
    "We will only replicate what was done in the previous section related to outliers.\n"
   ]
  },
  {
   "cell_type": "code",
   "execution_count": 2,
   "metadata": {},
   "outputs": [],
   "source": [
    "df = pd.read_csv(\"../assets/data/processed/adding_data.csv\")\n",
    "df = df[df[\"positionFinal\"] <= 20]\n",
    "df = df[(df[\"driverStatus\"] == \"Finished\") | (df[\"driverStatus\"].str.contains(\"Lap\"))]"
   ]
  },
  {
   "cell_type": "markdown",
   "metadata": {},
   "source": [
    "## Encoding and normalization\n"
   ]
  },
  {
   "cell_type": "markdown",
   "metadata": {},
   "source": [
    "Now we proceed to re-encode and re-normalize.\n"
   ]
  },
  {
   "cell_type": "code",
   "execution_count": 3,
   "metadata": {},
   "outputs": [],
   "source": [
    "X = df.drop(\n",
    "    [\n",
    "        \"positionFinal\",\n",
    "        \"pointsDriverEarned\",\n",
    "        \"lapsCompleted\",\n",
    "        \"timeTakenInMillisec\",\n",
    "        \"fastestLap\",\n",
    "        \"fastestLapRank\",\n",
    "        \"fastestLapTime\",\n",
    "        \"maxSpeed\",\n",
    "        \"driverStatus\",\n",
    "        \"pointsConstructorEarned\",\n",
    "        \"constructorPosition\",\n",
    "    ],\n",
    "    axis=1,\n",
    ")\n",
    "\n",
    "enc = LabelEncoder()\n",
    "for c in X.columns:\n",
    "    if X[c].dtype == \"object\":\n",
    "        X[c] = enc.fit_transform(X[c])\n",
    "\n",
    "scaler = RobustScaler()\n",
    "X = pd.DataFrame(scaler.fit_transform(X), index=X.index, columns=X.columns)"
   ]
  },
  {
   "cell_type": "markdown",
   "metadata": {},
   "source": [
    "Finally, we write down the results for later sections\n"
   ]
  },
  {
   "cell_type": "code",
   "execution_count": 4,
   "metadata": {},
   "outputs": [],
   "source": [
    "df.to_csv(\"../assets/data/processed/final_model.csv\", index=False)\n",
    "X.to_csv(\"../assets/data/processed/final_model_X.csv\", index=False)"
   ]
  }
 ],
 "metadata": {
  "kernelspec": {
   "display_name": "Python 3",
   "language": "python",
   "name": "python3"
  },
  "language_info": {
   "codemirror_mode": {
    "name": "ipython",
    "version": 3
   },
   "file_extension": ".py",
   "mimetype": "text/x-python",
   "name": "python",
   "nbconvert_exporter": "python",
   "pygments_lexer": "ipython3",
   "version": "3.10.11"
  }
 },
 "nbformat": 4,
 "nbformat_minor": 2
}
