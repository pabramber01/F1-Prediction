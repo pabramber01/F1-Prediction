{
 "cells": [
  {
   "cell_type": "markdown",
   "metadata": {},
   "source": [
    "# Simple hyperparameter tuning"
   ]
  },
  {
   "cell_type": "markdown",
   "metadata": {},
   "source": [
    "## Tuning methods"
   ]
  },
  {
   "cell_type": "markdown",
   "metadata": {},
   "source": [
    "For the improvement of the selected models, we will first do a simple hyperparameter tuning. For this we can use mainly two methods\n",
    "\n",
    "- For a more exhaustive search, GridSearch\n",
    "- For a more stochastic search, RandomizedSearch\n",
    "\n",
    "In our case we will use the first option mentioned above for more consistent results. Likewise, the hyperparameters will be re-selected in later sections in a more rigorous way.\n"
   ]
  }
 ],
 "metadata": {
  "language_info": {
   "name": "python"
  }
 },
 "nbformat": 4,
 "nbformat_minor": 2
}
