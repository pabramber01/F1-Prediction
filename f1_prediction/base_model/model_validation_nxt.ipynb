{
 "cells": [
  {
   "cell_type": "markdown",
   "metadata": {},
   "source": [
    "# Next steps"
   ]
  },
  {
   "cell_type": "markdown",
   "metadata": {},
   "source": [
    "## Target attributes"
   ]
  },
  {
   "cell_type": "markdown",
   "metadata": {},
   "source": [
    "With the results obtained, we will proceed with the following models\n",
    "\n",
    "- Final position of the driver in a ±1 interval\n",
    "- The driver is podium or not\n",
    "\n",
    "This is because accurately predicting the position of each pilot is really unfeasible, and, between variable and fixed intervals, the second option has been selected simply out of desire, since the two are similar in results.\n",
    "\n",
    "On the other hand, it has been chosen to determine the podium instead of the winner since, in these times, we all know that the winner this season will be Verstappen with a 99% probability.\n",
    "\n",
    "In addition, classification models over regression models will be chosen since the results are slightly better in the first mentioned.\n"
   ]
  }
 ],
 "metadata": {
  "language_info": {
   "name": "python"
  }
 },
 "nbformat": 4,
 "nbformat_minor": 2
}
