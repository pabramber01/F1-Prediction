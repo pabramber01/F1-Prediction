{
 "cells": [
  {
   "cell_type": "markdown",
   "metadata": {},
   "source": [
    "# Model validation\n"
   ]
  },
  {
   "cell_type": "markdown",
   "metadata": {},
   "source": [
    "## Dependencies\n"
   ]
  },
  {
   "cell_type": "markdown",
   "metadata": {},
   "source": [
    "The dependencies used are as follows\n"
   ]
  },
  {
   "cell_type": "code",
   "execution_count": 1,
   "metadata": {},
   "outputs": [],
   "source": [
    "import pandas as pd\n",
    "import numpy as np\n",
    "\n",
    "pd.set_option(\"display.max_columns\", None)\n",
    "pd.set_option(\"display.max_rows\", None)\n",
    "\n",
    "import warnings\n",
    "\n",
    "warnings.simplefilter(\"ignore\")"
   ]
  },
  {
   "cell_type": "markdown",
   "metadata": {},
   "source": [
    "## Other models"
   ]
  },
  {
   "cell_type": "markdown",
   "metadata": {},
   "source": [
    "In order to continue trying to improve the model, other models will be tested, specifically:\n",
    "\n",
    "- XGBClassifier\n",
    "- XGBRegressor\n",
    "- XGBRanker\n",
    "\n",
    "Bearing in mind that we will pay special attention to the latter since it has a more different behavior than the rest.\n"
   ]
  },
  {
   "cell_type": "markdown",
   "metadata": {},
   "source": [
    "## Ranker model"
   ]
  },
  {
   "cell_type": "markdown",
   "metadata": {},
   "source": [
    "For XGBRanker we need to give them an additional parameter \"group\" the number of instance per group, or \"qid\", a list that corresponds to the group of each instance. The latter can also be added to the dataframe and not have to make it explicit, which is what we are going to do.\n"
   ]
  },
  {
   "cell_type": "code",
   "execution_count": 2,
   "metadata": {},
   "outputs": [],
   "source": [
    "df = pd.read_csv(\"../assets/data/processed/base_model.csv\")\n",
    "X = pd.read_csv(\"../assets/data/processed/base_model_X.csv\")\n",
    "\n",
    "races_per_year = np.cumsum([0] + df.groupby(\"raceYear\")[\"raceRound\"].max().to_list())\n",
    "set_id = lambda y, r: r + (races_per_year[y - 2006])\n",
    "\n",
    "df[\"qid\"] = df.apply(lambda x: set_id(x[\"raceYear\"], x[\"raceRound\"]), axis=1)\n",
    "X[\"qid\"] = df[\"qid\"]"
   ]
  },
  {
   "cell_type": "markdown",
   "metadata": {},
   "source": [
    "Note that we have added to X the attribute without normalizing, which is not necessary, since the XGBoost models we are going to use are tree-based, and therefore it is not necessary.\n",
    "\n",
    "Finally, we write the results.\n"
   ]
  },
  {
   "cell_type": "code",
   "execution_count": 3,
   "metadata": {},
   "outputs": [],
   "source": [
    "df.to_csv(\"../assets/data/processed/other_models.csv\", index=False)\n",
    "X.to_csv(\"../assets/data/processed/other_models_X.csv\", index=False)"
   ]
  }
 ],
 "metadata": {
  "kernelspec": {
   "display_name": "Python 3",
   "language": "python",
   "name": "python3"
  },
  "language_info": {
   "codemirror_mode": {
    "name": "ipython",
    "version": 3
   },
   "file_extension": ".py",
   "mimetype": "text/x-python",
   "name": "python",
   "nbconvert_exporter": "python",
   "pygments_lexer": "ipython3",
   "version": "3.10.11"
  }
 },
 "nbformat": 4,
 "nbformat_minor": 2
}
