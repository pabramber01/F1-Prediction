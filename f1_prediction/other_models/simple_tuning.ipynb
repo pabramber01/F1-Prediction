{
 "cells": [
  {
   "cell_type": "markdown",
   "metadata": {},
   "source": [
    "# Simple hyperparameter tuning\n"
   ]
  },
  {
   "cell_type": "markdown",
   "metadata": {},
   "source": [
    "## Tuning methods\n"
   ]
  },
  {
   "cell_type": "markdown",
   "metadata": {},
   "source": [
    "For the improvement of the selected models, we will first do a simple hyperparameter tuning. For this we can use mainly two methods\n",
    "\n",
    "- For a more exhaustive search, GridSearch\n",
    "- For a more stochastic search, RandomizedSearch\n",
    "\n",
    "In our case we will use the second option mentioned above because the amount of hyperparameters. Likewise, the hyperparameters will be re-selected in later sections in a more rigorous way.\n",
    "\n",
    "Note that only one metric will be used, since using both in the next sections increases the execution time unnecessarily and we would obtain similar results. Therefore, either of the two will be used, specifically, the classification metric, since it is more representative of what we want to achieve and can be used in the two cases to be studied.\n"
   ]
  }
 ],
 "metadata": {
  "language_info": {
   "name": "python"
  }
 },
 "nbformat": 4,
 "nbformat_minor": 2
}
