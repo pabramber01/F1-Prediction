{
 "cells": [
  {
   "cell_type": "markdown",
   "metadata": {},
   "source": [
    "# Model validation\n"
   ]
  },
  {
   "cell_type": "markdown",
   "metadata": {},
   "source": [
    "## Outliers treatment\n"
   ]
  },
  {
   "cell_type": "markdown",
   "metadata": {},
   "source": [
    "In order to continue trying to improve the model, outliers will be treated, specifically:\n",
    "\n",
    "- Programmatically treatment\n",
    "- Manually treatment\n",
    "\n",
    "Each of these will be discussed separately in the following sections.\n",
    "\n",
    "Note that this will be done on the base model, and not on the data addition.\n"
   ]
  }
 ],
 "metadata": {
  "language_info": {
   "name": "python"
  }
 },
 "nbformat": 4,
 "nbformat_minor": 2
}
