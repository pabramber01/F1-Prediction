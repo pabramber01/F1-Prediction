{
 "cells": [
  {
   "cell_type": "markdown",
   "metadata": {},
   "source": [
    "# Missing values\n"
   ]
  },
  {
   "cell_type": "markdown",
   "metadata": {},
   "source": [
    "## Dependencies\n"
   ]
  },
  {
   "cell_type": "markdown",
   "metadata": {},
   "source": [
    "The dependencies used are as follows\n"
   ]
  },
  {
   "cell_type": "code",
   "execution_count": 1,
   "metadata": {},
   "outputs": [],
   "source": [
    "import numpy as np\n",
    "import pandas as pd\n",
    "\n",
    "pd.set_option(\"display.max_columns\", None)\n",
    "pd.set_option(\"display.max_rows\", None)\n",
    "\n",
    "import warnings\n",
    "\n",
    "warnings.simplefilter(\"ignore\")"
   ]
  },
  {
   "cell_type": "markdown",
   "metadata": {},
   "source": [
    "## Checking nulls\n"
   ]
  },
  {
   "cell_type": "markdown",
   "metadata": {},
   "source": [
    "First, we will check the number of nulls in each column.\n"
   ]
  },
  {
   "cell_type": "code",
   "execution_count": 2,
   "metadata": {},
   "outputs": [
    {
     "data": {
      "text/plain": [
       "carNumber                      6\n",
       "positionGrid                   0\n",
       "positionFinal                  0\n",
       "pointsDriverEarned             0\n",
       "lapsCompleted                  0\n",
       "timeTakenInMillisec        18830\n",
       "fastestLap                 18465\n",
       "fastestLapRank             18249\n",
       "fastestLapTime             18465\n",
       "maxSpeed                   18465\n",
       "driverRef                      0\n",
       "driverNumber               20257\n",
       "driverNationality              0\n",
       "constructorRef                 0\n",
       "constructorNationality         0\n",
       "raceYear                       0\n",
       "raceRound                      0\n",
       "grandPrix                      0\n",
       "raceTime                   18469\n",
       "circuitRef                     0\n",
       "circuitLocation                0\n",
       "circuitCountry                 0\n",
       "circuitLat                     0\n",
       "circuitLng                     0\n",
       "circuitAlt                    60\n",
       "driverStatus                   0\n",
       "driverWins                   469\n",
       "pointsConstructorEarned     1867\n",
       "constructorPosition         1867\n",
       "constructorWins             1867\n",
       "q1                         16424\n",
       "q2                         20738\n",
       "q3                         22783\n",
       "driverAgeToday                 0\n",
       "driverAgeAtRace                0\n",
       "dtype: int64"
      ]
     },
     "execution_count": 2,
     "metadata": {},
     "output_type": "execute_result"
    }
   ],
   "source": [
    "df = pd.read_csv(\"../assets/data/processed/data_transformation.csv\")\n",
    "df.isnull().sum()"
   ]
  },
  {
   "cell_type": "markdown",
   "metadata": {},
   "source": [
    "We can see several nulls in several columns, three of them being the qualifying times. Being data that provide great information about how well a driver can be given a circuit days before the grand prix, for the treatment of nulls we can start focusing on these times.\n",
    "\n",
    "Specifically, there are several nulls, since the currently known qualifiers did not exist until 2006, with minor modifications. Previously, it could be that there were no qualifiers at all, or that there were not all three. For example, see the following link from 2016 for a bit of history of the qualifiers and the grid.\n",
    "\n",
    "_Source: https://www.formula1.com/en/latest/features/2016/3/deciding-the-grid-a-history-of-f1-qualifying-formats.html_\n",
    "\n",
    "Likewise, we can see that this is also corroborated in the data.\n"
   ]
  },
  {
   "cell_type": "code",
   "execution_count": 3,
   "metadata": {},
   "outputs": [
    {
     "data": {
      "text/plain": [
       "array([[2006],\n",
       "       [2007],\n",
       "       [2008],\n",
       "       [2009],\n",
       "       [2010],\n",
       "       [2011],\n",
       "       [2012],\n",
       "       [2013],\n",
       "       [2014],\n",
       "       [2015],\n",
       "       [2016],\n",
       "       [2017],\n",
       "       [2018],\n",
       "       [2019],\n",
       "       [2020],\n",
       "       [2021],\n",
       "       [2022],\n",
       "       [2023]], dtype=int64)"
      ]
     },
     "execution_count": 3,
     "metadata": {},
     "output_type": "execute_result"
    }
   ],
   "source": [
    "first_q_not_null = ~(df[\"q1\"].isnull())\n",
    "second_q_not_null = ~(df[\"q2\"].isnull())\n",
    "third_q_not_null = ~(df[\"q3\"].isnull())\n",
    "mask = first_q_not_null & second_q_not_null & third_q_not_null\n",
    "\n",
    "df[mask][\"raceYear\"].drop_duplicates().sort_values().to_numpy().reshape(-1, 1)"
   ]
  },
  {
   "cell_type": "markdown",
   "metadata": {},
   "source": [
    "Therefore, the model will be limited to training only from 2006 onwards.\n",
    "\n",
    "Obviously, if we see that the model remains poor, we can change the range and study the behavior of the model.\n"
   ]
  },
  {
   "cell_type": "code",
   "execution_count": 4,
   "metadata": {},
   "outputs": [
    {
     "data": {
      "text/plain": [
       "carNumber                     0\n",
       "positionGrid                  0\n",
       "positionFinal                 0\n",
       "pointsDriverEarned            0\n",
       "lapsCompleted                 0\n",
       "timeTakenInMillisec        3654\n",
       "fastestLap                  321\n",
       "fastestLapRank              105\n",
       "fastestLapTime              321\n",
       "maxSpeed                    321\n",
       "driverRef                     0\n",
       "driverNumber               1724\n",
       "driverNationality             0\n",
       "constructorRef                0\n",
       "constructorNationality        0\n",
       "raceYear                      0\n",
       "raceRound                     0\n",
       "grandPrix                     0\n",
       "raceTime                      0\n",
       "circuitRef                    0\n",
       "circuitLocation               0\n",
       "circuitCountry                0\n",
       "circuitLat                    0\n",
       "circuitLng                    0\n",
       "circuitAlt                   60\n",
       "driverStatus                  0\n",
       "driverWins                   51\n",
       "pointsConstructorEarned      18\n",
       "constructorPosition          18\n",
       "constructorWins              18\n",
       "q1                          102\n",
       "q2                         2000\n",
       "q3                         3938\n",
       "driverAgeToday                0\n",
       "driverAgeAtRace               0\n",
       "dtype: int64"
      ]
     },
     "execution_count": 4,
     "metadata": {},
     "output_type": "execute_result"
    }
   ],
   "source": [
    "df = df[df[\"raceYear\"] >= 2006]\n",
    "\n",
    "df.isnull().sum()"
   ]
  },
  {
   "cell_type": "markdown",
   "metadata": {},
   "source": [
    "## Qualifiers\n"
   ]
  },
  {
   "cell_type": "markdown",
   "metadata": {},
   "source": [
    "There are still some nulls, which is normal, since not all pilots run all the qualifying rounds. As the grid position is determined by the lowest possible time of the three qualifiers, it will be sufficient to replicate the times in those qualifiers that are null. If the first two races are run and not the third, one of the other two races will be randomly selected to fill the third.\n"
   ]
  },
  {
   "cell_type": "code",
   "execution_count": 5,
   "metadata": {},
   "outputs": [
    {
     "data": {
      "text/plain": [
       "carNumber                     0\n",
       "positionGrid                  0\n",
       "positionFinal                 0\n",
       "pointsDriverEarned            0\n",
       "lapsCompleted                 0\n",
       "timeTakenInMillisec        3654\n",
       "fastestLap                  321\n",
       "fastestLapRank              105\n",
       "fastestLapTime              321\n",
       "maxSpeed                    321\n",
       "driverRef                     0\n",
       "driverNumber               1724\n",
       "driverNationality             0\n",
       "constructorRef                0\n",
       "constructorNationality        0\n",
       "raceYear                      0\n",
       "raceRound                     0\n",
       "grandPrix                     0\n",
       "raceTime                      0\n",
       "circuitRef                    0\n",
       "circuitLocation               0\n",
       "circuitCountry                0\n",
       "circuitLat                    0\n",
       "circuitLng                    0\n",
       "circuitAlt                   60\n",
       "driverStatus                  0\n",
       "driverWins                   51\n",
       "pointsConstructorEarned      18\n",
       "constructorPosition          18\n",
       "constructorWins              18\n",
       "q1                          102\n",
       "q2                          102\n",
       "q3                          102\n",
       "driverAgeToday                0\n",
       "driverAgeAtRace               0\n",
       "dtype: int64"
      ]
     },
     "execution_count": 5,
     "metadata": {},
     "output_type": "execute_result"
    }
   ],
   "source": [
    "mask = first_q_not_null & ~second_q_not_null & ~third_q_not_null\n",
    "df.loc[mask, [\"q2\", \"q3\"]] = df.loc[mask, \"q1\"]\n",
    "\n",
    "mask = first_q_not_null & second_q_not_null & ~third_q_not_null\n",
    "df.loc[mask, \"q3\"] = df.loc[mask, [\"q1\", \"q2\"]].sample(axis=1).squeeze()\n",
    "\n",
    "df.isnull().sum()"
   ]
  },
  {
   "cell_type": "markdown",
   "metadata": {},
   "source": [
    "In the same way, there are still nulls, which will probably be those drivers who for some reason have not been able to run the qualifiers and will start in the last positions.\n"
   ]
  },
  {
   "cell_type": "code",
   "execution_count": 6,
   "metadata": {},
   "outputs": [
    {
     "data": {
      "text/plain": [
       "array([ 0, 15, 16, 17, 18, 19, 20, 21, 22, 23, 24], dtype=int64)"
      ]
     },
     "execution_count": 6,
     "metadata": {},
     "output_type": "execute_result"
    }
   ],
   "source": [
    "df[df[\"q1\"].isnull()][\"positionGrid\"].drop_duplicates().sort_values().values"
   ]
  },
  {
   "cell_type": "markdown",
   "metadata": {},
   "source": [
    "Ignoring the case of the value 0, which will be discussed later, we can see that these are indeed the last positions.\n",
    "\n",
    "Therefore, the maximum time will be assigned, taking into account that it will be per race and not globally.\n"
   ]
  },
  {
   "cell_type": "code",
   "execution_count": 7,
   "metadata": {},
   "outputs": [
    {
     "data": {
      "text/plain": [
       "carNumber                     0\n",
       "positionGrid                  0\n",
       "positionFinal                 0\n",
       "pointsDriverEarned            0\n",
       "lapsCompleted                 0\n",
       "timeTakenInMillisec        3654\n",
       "fastestLap                  321\n",
       "fastestLapRank              105\n",
       "fastestLapTime              321\n",
       "maxSpeed                    321\n",
       "driverRef                     0\n",
       "driverNumber               1724\n",
       "driverNationality             0\n",
       "constructorRef                0\n",
       "constructorNationality        0\n",
       "raceYear                      0\n",
       "raceRound                     0\n",
       "grandPrix                     0\n",
       "raceTime                      0\n",
       "circuitRef                    0\n",
       "circuitLocation               0\n",
       "circuitCountry                0\n",
       "circuitLat                    0\n",
       "circuitLng                    0\n",
       "circuitAlt                   60\n",
       "driverStatus                  0\n",
       "driverWins                   51\n",
       "pointsConstructorEarned      18\n",
       "constructorPosition          18\n",
       "constructorWins              18\n",
       "q1                            0\n",
       "q2                            0\n",
       "q3                            0\n",
       "driverAgeToday                0\n",
       "driverAgeAtRace               0\n",
       "dtype: int64"
      ]
     },
     "execution_count": 7,
     "metadata": {},
     "output_type": "execute_result"
    }
   ],
   "source": [
    "qualify_by_race = (\n",
    "    df[[\"raceYear\", \"raceRound\", \"q1\"]]\n",
    "    .groupby([\"raceYear\", \"raceRound\"])\n",
    "    .agg({\"q1\": \"max\"})\n",
    ")\n",
    "\n",
    "mask = ~first_q_not_null & ~second_q_not_null & ~third_q_not_null\n",
    "\n",
    "mg = df.loc[mask]\n",
    "mg = mg.join(qualify_by_race, how=\"left\", on=[\"raceYear\", \"raceRound\"], rsuffix=\"Max\")\n",
    "df.loc[mask, [\"q1\", \"q2\", \"q3\"]] = mg[\"q1Max\"]\n",
    "\n",
    "df.isnull().sum()"
   ]
  },
  {
   "cell_type": "markdown",
   "metadata": {},
   "source": [
    "## Grid positions\n"
   ]
  },
  {
   "cell_type": "markdown",
   "metadata": {},
   "source": [
    "Once the nulls of the qualifiers have been resolved, we will move on to others.\n",
    "\n",
    "The case of the grid positions that are 0, are special cases in which the FIA allows drivers who have not qualified to race. For example, in the third grand prix of the 2023 season, perez and bottas were allowed to race without qualifying, as shown in the following link\n",
    "\n",
    "_Source: https://www.formula1.com/en/results.html/2023/races/1143/australia/starting-grid.html_\n",
    "\n",
    "We can also see this in the data\n"
   ]
  },
  {
   "cell_type": "code",
   "execution_count": 8,
   "metadata": {},
   "outputs": [
    {
     "data": {
      "text/html": [
       "<div>\n",
       "<style scoped>\n",
       "    .dataframe tbody tr th:only-of-type {\n",
       "        vertical-align: middle;\n",
       "    }\n",
       "\n",
       "    .dataframe tbody tr th {\n",
       "        vertical-align: top;\n",
       "    }\n",
       "\n",
       "    .dataframe thead th {\n",
       "        text-align: right;\n",
       "    }\n",
       "</style>\n",
       "<table border=\"1\" class=\"dataframe\">\n",
       "  <thead>\n",
       "    <tr style=\"text-align: right;\">\n",
       "      <th></th>\n",
       "      <th>carNumber</th>\n",
       "      <th>positionGrid</th>\n",
       "      <th>positionFinal</th>\n",
       "      <th>pointsDriverEarned</th>\n",
       "      <th>lapsCompleted</th>\n",
       "      <th>timeTakenInMillisec</th>\n",
       "      <th>fastestLap</th>\n",
       "      <th>fastestLapRank</th>\n",
       "      <th>fastestLapTime</th>\n",
       "      <th>maxSpeed</th>\n",
       "      <th>driverRef</th>\n",
       "      <th>driverNumber</th>\n",
       "      <th>driverNationality</th>\n",
       "      <th>constructorRef</th>\n",
       "      <th>constructorNationality</th>\n",
       "      <th>raceYear</th>\n",
       "      <th>raceRound</th>\n",
       "      <th>grandPrix</th>\n",
       "      <th>raceTime</th>\n",
       "      <th>circuitRef</th>\n",
       "      <th>circuitLocation</th>\n",
       "      <th>circuitCountry</th>\n",
       "      <th>circuitLat</th>\n",
       "      <th>circuitLng</th>\n",
       "      <th>circuitAlt</th>\n",
       "      <th>driverStatus</th>\n",
       "      <th>driverWins</th>\n",
       "      <th>pointsConstructorEarned</th>\n",
       "      <th>constructorPosition</th>\n",
       "      <th>constructorWins</th>\n",
       "      <th>q1</th>\n",
       "      <th>q2</th>\n",
       "      <th>q3</th>\n",
       "      <th>driverAgeToday</th>\n",
       "      <th>driverAgeAtRace</th>\n",
       "    </tr>\n",
       "  </thead>\n",
       "  <tbody>\n",
       "    <tr>\n",
       "      <th>25884</th>\n",
       "      <td>11.0</td>\n",
       "      <td>0</td>\n",
       "      <td>5</td>\n",
       "      <td>11.0</td>\n",
       "      <td>58</td>\n",
       "      <td>9161691.0</td>\n",
       "      <td>53.0</td>\n",
       "      <td>1.0</td>\n",
       "      <td>80235.0</td>\n",
       "      <td>236.814</td>\n",
       "      <td>perez</td>\n",
       "      <td>11.0</td>\n",
       "      <td>Mexican</td>\n",
       "      <td>red_bull</td>\n",
       "      <td>Austrian</td>\n",
       "      <td>2023</td>\n",
       "      <td>3</td>\n",
       "      <td>Australian Grand Prix</td>\n",
       "      <td>18000000.0</td>\n",
       "      <td>albert_park</td>\n",
       "      <td>Melbourne</td>\n",
       "      <td>Australia</td>\n",
       "      <td>-37.8497</td>\n",
       "      <td>144.968</td>\n",
       "      <td>10.0</td>\n",
       "      <td>Finished</td>\n",
       "      <td>1.0</td>\n",
       "      <td>123.0</td>\n",
       "      <td>1.0</td>\n",
       "      <td>3.0</td>\n",
       "      <td>78714.0</td>\n",
       "      <td>78714.0</td>\n",
       "      <td>78714.0</td>\n",
       "      <td>34</td>\n",
       "      <td>33</td>\n",
       "    </tr>\n",
       "    <tr>\n",
       "      <th>25890</th>\n",
       "      <td>77.0</td>\n",
       "      <td>0</td>\n",
       "      <td>11</td>\n",
       "      <td>0.0</td>\n",
       "      <td>58</td>\n",
       "      <td>9164884.0</td>\n",
       "      <td>46.0</td>\n",
       "      <td>17.0</td>\n",
       "      <td>82233.0</td>\n",
       "      <td>231.060</td>\n",
       "      <td>bottas</td>\n",
       "      <td>77.0</td>\n",
       "      <td>Finnish</td>\n",
       "      <td>alfa</td>\n",
       "      <td>Swiss</td>\n",
       "      <td>2023</td>\n",
       "      <td>3</td>\n",
       "      <td>Australian Grand Prix</td>\n",
       "      <td>18000000.0</td>\n",
       "      <td>albert_park</td>\n",
       "      <td>Melbourne</td>\n",
       "      <td>Australia</td>\n",
       "      <td>-37.8497</td>\n",
       "      <td>144.968</td>\n",
       "      <td>10.0</td>\n",
       "      <td>Finished</td>\n",
       "      <td>0.0</td>\n",
       "      <td>6.0</td>\n",
       "      <td>8.0</td>\n",
       "      <td>0.0</td>\n",
       "      <td>78714.0</td>\n",
       "      <td>78714.0</td>\n",
       "      <td>78714.0</td>\n",
       "      <td>35</td>\n",
       "      <td>34</td>\n",
       "    </tr>\n",
       "  </tbody>\n",
       "</table>\n",
       "</div>"
      ],
      "text/plain": [
       "       carNumber  positionGrid  positionFinal  pointsDriverEarned  \\\n",
       "25884       11.0             0              5                11.0   \n",
       "25890       77.0             0             11                 0.0   \n",
       "\n",
       "       lapsCompleted  timeTakenInMillisec  fastestLap  fastestLapRank  \\\n",
       "25884             58            9161691.0        53.0             1.0   \n",
       "25890             58            9164884.0        46.0            17.0   \n",
       "\n",
       "       fastestLapTime  maxSpeed driverRef  driverNumber driverNationality  \\\n",
       "25884         80235.0   236.814     perez          11.0           Mexican   \n",
       "25890         82233.0   231.060    bottas          77.0           Finnish   \n",
       "\n",
       "      constructorRef constructorNationality  raceYear  raceRound  \\\n",
       "25884       red_bull               Austrian      2023          3   \n",
       "25890           alfa                  Swiss      2023          3   \n",
       "\n",
       "                   grandPrix    raceTime   circuitRef circuitLocation  \\\n",
       "25884  Australian Grand Prix  18000000.0  albert_park       Melbourne   \n",
       "25890  Australian Grand Prix  18000000.0  albert_park       Melbourne   \n",
       "\n",
       "      circuitCountry  circuitLat  circuitLng  circuitAlt driverStatus  \\\n",
       "25884      Australia    -37.8497     144.968        10.0     Finished   \n",
       "25890      Australia    -37.8497     144.968        10.0     Finished   \n",
       "\n",
       "       driverWins  pointsConstructorEarned  constructorPosition  \\\n",
       "25884         1.0                    123.0                  1.0   \n",
       "25890         0.0                      6.0                  8.0   \n",
       "\n",
       "       constructorWins       q1       q2       q3  driverAgeToday  \\\n",
       "25884              3.0  78714.0  78714.0  78714.0              34   \n",
       "25890              0.0  78714.0  78714.0  78714.0              35   \n",
       "\n",
       "       driverAgeAtRace  \n",
       "25884               33  \n",
       "25890               34  "
      ]
     },
     "execution_count": 8,
     "metadata": {},
     "output_type": "execute_result"
    }
   ],
   "source": [
    "race_last_year = df[\"raceYear\"] == 2023\n",
    "race_round_three = df[\"raceRound\"] == 3\n",
    "position_grid_zero = df[\"positionGrid\"] == 0\n",
    "mask = race_last_year & race_round_three & position_grid_zero\n",
    "\n",
    "df[mask].head()"
   ]
  },
  {
   "cell_type": "markdown",
   "metadata": {},
   "source": [
    "Then, as it is not known in which grid position they started, we will put the last positions.\n"
   ]
  },
  {
   "cell_type": "code",
   "execution_count": 9,
   "metadata": {},
   "outputs": [
    {
     "data": {
      "text/plain": [
       "array([ 1,  2,  3,  4,  5,  6,  7,  8,  9, 10, 11, 12, 13, 14, 15, 16, 17,\n",
       "       18, 19, 20, 21, 22, 23, 24], dtype=int64)"
      ]
     },
     "execution_count": 9,
     "metadata": {},
     "output_type": "execute_result"
    }
   ],
   "source": [
    "last_grid_by_race = (\n",
    "    df[[\"raceYear\", \"raceRound\", \"positionGrid\"]]\n",
    "    .groupby([\"raceYear\", \"raceRound\"])\n",
    "    .agg({\"positionGrid\": lambda x: max(x) + 1})\n",
    ")\n",
    "\n",
    "mask = position_grid_zero\n",
    "mg = df[mask]\n",
    "mg = mg.join(last_grid_by_race, how=\"left\", on=[\"raceYear\", \"raceRound\"], rsuffix=\"Max\")\n",
    "df.loc[mask, \"positionGrid\"] = mg[\"positionGridMax\"]\n",
    "\n",
    "df[\"positionGrid\"].drop_duplicates().sort_values().to_numpy()"
   ]
  },
  {
   "cell_type": "markdown",
   "metadata": {},
   "source": [
    "## Circuits\n"
   ]
  },
  {
   "cell_type": "markdown",
   "metadata": {},
   "source": [
    "Regarding the circuits, we are missing information on the altitude of the following circuits\n"
   ]
  },
  {
   "cell_type": "code",
   "execution_count": 10,
   "metadata": {},
   "outputs": [
    {
     "data": {
      "text/plain": [
       "25340    losail\n",
       "25480     miami\n",
       "Name: circuitRef, dtype: object"
      ]
     },
     "execution_count": 10,
     "metadata": {},
     "output_type": "execute_result"
    }
   ],
   "source": [
    "df[df[\"circuitAlt\"].isnull()][\"circuitRef\"].drop_duplicates()"
   ]
  },
  {
   "cell_type": "markdown",
   "metadata": {},
   "source": [
    "Simply look up the altitude of these two circuits manually and enter them into the data set.\n"
   ]
  },
  {
   "cell_type": "code",
   "execution_count": 11,
   "metadata": {},
   "outputs": [
    {
     "data": {
      "text/plain": [
       "carNumber                     0\n",
       "positionGrid                  0\n",
       "positionFinal                 0\n",
       "pointsDriverEarned            0\n",
       "lapsCompleted                 0\n",
       "timeTakenInMillisec        3654\n",
       "fastestLap                  321\n",
       "fastestLapRank              105\n",
       "fastestLapTime              321\n",
       "maxSpeed                    321\n",
       "driverRef                     0\n",
       "driverNumber               1724\n",
       "driverNationality             0\n",
       "constructorRef                0\n",
       "constructorNationality        0\n",
       "raceYear                      0\n",
       "raceRound                     0\n",
       "grandPrix                     0\n",
       "raceTime                      0\n",
       "circuitRef                    0\n",
       "circuitLocation               0\n",
       "circuitCountry                0\n",
       "circuitLat                    0\n",
       "circuitLng                    0\n",
       "circuitAlt                    0\n",
       "driverStatus                  0\n",
       "driverWins                   51\n",
       "pointsConstructorEarned      18\n",
       "constructorPosition          18\n",
       "constructorWins              18\n",
       "q1                            0\n",
       "q2                            0\n",
       "q3                            0\n",
       "driverAgeToday                0\n",
       "driverAgeAtRace               0\n",
       "dtype: int64"
      ]
     },
     "execution_count": 11,
     "metadata": {},
     "output_type": "execute_result"
    }
   ],
   "source": [
    "df.loc[df[\"circuitRef\"] == \"losail\", \"circuitAlt\"] = 20\n",
    "df.loc[df[\"circuitRef\"] == \"miami\", \"circuitAlt\"] = 2\n",
    "\n",
    "df.isnull().sum()"
   ]
  },
  {
   "cell_type": "markdown",
   "metadata": {},
   "source": [
    "## Driver wins\n"
   ]
  },
  {
   "cell_type": "markdown",
   "metadata": {},
   "source": [
    "To solve the number of driver wins, knowing that they are per season, i.e., they start at 0 per year, it is simple to calculate the nulls.\n"
   ]
  },
  {
   "cell_type": "code",
   "execution_count": 12,
   "metadata": {},
   "outputs": [
    {
     "data": {
      "text/plain": [
       "carNumber                     0\n",
       "positionGrid                  0\n",
       "positionFinal                 0\n",
       "pointsDriverEarned            0\n",
       "lapsCompleted                 0\n",
       "timeTakenInMillisec        3654\n",
       "fastestLap                  321\n",
       "fastestLapRank              105\n",
       "fastestLapTime              321\n",
       "maxSpeed                    321\n",
       "driverRef                     0\n",
       "driverNumber               1724\n",
       "driverNationality             0\n",
       "constructorRef                0\n",
       "constructorNationality        0\n",
       "raceYear                      0\n",
       "raceRound                     0\n",
       "grandPrix                     0\n",
       "raceTime                      0\n",
       "circuitRef                    0\n",
       "circuitLocation               0\n",
       "circuitCountry                0\n",
       "circuitLat                    0\n",
       "circuitLng                    0\n",
       "circuitAlt                    0\n",
       "driverStatus                  0\n",
       "driverWins                    0\n",
       "pointsConstructorEarned      18\n",
       "constructorPosition          18\n",
       "constructorWins              18\n",
       "q1                            0\n",
       "q2                            0\n",
       "q3                            0\n",
       "driverAgeToday                0\n",
       "driverAgeAtRace               0\n",
       "dtype: int64"
      ]
     },
     "execution_count": 12,
     "metadata": {},
     "output_type": "execute_result"
    }
   ],
   "source": [
    "df = df.sort_values(by=[\"raceYear\", \"driverRef\", \"raceRound\"]).reset_index(drop=True)\n",
    "\n",
    "drivers = df[df[\"driverWins\"].isnull()][\"driverRef\"].drop_duplicates().to_numpy()\n",
    "j = df.columns.get_loc(\"driverWins\")\n",
    "\n",
    "for driver in drivers:\n",
    "    mask = (df[\"driverRef\"] == driver) & (df[\"driverWins\"].isnull())\n",
    "    indexes = df[mask].index\n",
    "    for i in indexes:\n",
    "        pdata, cdata = df.iloc[i - 1], df.iloc[i]\n",
    "        if (\n",
    "            pdata[\"driverRef\"] != cdata[\"driverRef\"]\n",
    "            or pdata[\"raceYear\"] != cdata[\"raceYear\"]\n",
    "        ):\n",
    "            if cdata[\"positionFinal\"] == 1:\n",
    "                df.iloc[i, j] = 1\n",
    "            else:\n",
    "                df.iloc[i, j] = 0\n",
    "        else:\n",
    "            if cdata[\"positionFinal\"] == 1:\n",
    "                df.iloc[i, j] = pdata[\"driverWins\"] + 1\n",
    "            else:\n",
    "                df.iloc[i, j] = pdata[\"driverWins\"]\n",
    "\n",
    "df.isnull().sum()"
   ]
  },
  {
   "cell_type": "markdown",
   "metadata": {},
   "source": [
    "Note how this attribute is derived from the final position of the driver. It can be seen that, when he is in first position, this attribute increases by one in that same race, which is not desired since we are using information from the future. Therefore, what is going to be done is to move forward the attribute one position removing the last one and adding a zero as the first instance.\n"
   ]
  },
  {
   "cell_type": "code",
   "execution_count": 13,
   "metadata": {},
   "outputs": [],
   "source": [
    "years = df[\"raceYear\"].drop_duplicates().to_numpy()\n",
    "drivers = df[\"driverRef\"].drop_duplicates().to_numpy()\n",
    "\n",
    "for year in years:\n",
    "    for driver in drivers:\n",
    "        mask = (df[\"raceYear\"] == year) & (df[\"driverRef\"] == driver)\n",
    "        races = df.loc[mask, \"driverWins\"].iloc[:-1]\n",
    "        races.loc[-1] = 0\n",
    "        races.index += 1\n",
    "        races.sort_index(inplace=True)\n",
    "        races = races.to_numpy()\n",
    "        df.loc[mask, \"driverWins\"] = races"
   ]
  },
  {
   "cell_type": "markdown",
   "metadata": {},
   "source": [
    "## Constructor wins\n"
   ]
  },
  {
   "cell_type": "markdown",
   "metadata": {},
   "source": [
    "Regarding the three nulls related to the constructors, since they are a little more difficult to calculate, and since there are few of them, we will first study them manually.\n"
   ]
  },
  {
   "cell_type": "code",
   "execution_count": 14,
   "metadata": {},
   "outputs": [
    {
     "data": {
      "text/html": [
       "<div>\n",
       "<style scoped>\n",
       "    .dataframe tbody tr th:only-of-type {\n",
       "        vertical-align: middle;\n",
       "    }\n",
       "\n",
       "    .dataframe tbody tr th {\n",
       "        vertical-align: top;\n",
       "    }\n",
       "\n",
       "    .dataframe thead th {\n",
       "        text-align: right;\n",
       "    }\n",
       "</style>\n",
       "<table border=\"1\" class=\"dataframe\">\n",
       "  <thead>\n",
       "    <tr style=\"text-align: right;\">\n",
       "      <th></th>\n",
       "      <th>raceYear</th>\n",
       "      <th>raceRound</th>\n",
       "      <th>constructorRef</th>\n",
       "      <th>constructorWins</th>\n",
       "      <th>pointsConstructorEarned</th>\n",
       "      <th>constructorPosition</th>\n",
       "      <th>driverRef</th>\n",
       "      <th>driverStatus</th>\n",
       "    </tr>\n",
       "  </thead>\n",
       "  <tbody>\n",
       "    <tr>\n",
       "      <th>864</th>\n",
       "      <td>2008</td>\n",
       "      <td>1</td>\n",
       "      <td>force_india</td>\n",
       "      <td>NaN</td>\n",
       "      <td>NaN</td>\n",
       "      <td>NaN</td>\n",
       "      <td>fisichella</td>\n",
       "      <td>Collision</td>\n",
       "    </tr>\n",
       "    <tr>\n",
       "      <th>1066</th>\n",
       "      <td>2008</td>\n",
       "      <td>1</td>\n",
       "      <td>force_india</td>\n",
       "      <td>NaN</td>\n",
       "      <td>NaN</td>\n",
       "      <td>NaN</td>\n",
       "      <td>sutil</td>\n",
       "      <td>Hydraulics</td>\n",
       "    </tr>\n",
       "    <tr>\n",
       "      <th>788</th>\n",
       "      <td>2008</td>\n",
       "      <td>1</td>\n",
       "      <td>honda</td>\n",
       "      <td>NaN</td>\n",
       "      <td>NaN</td>\n",
       "      <td>NaN</td>\n",
       "      <td>barrichello</td>\n",
       "      <td>Disqualified</td>\n",
       "    </tr>\n",
       "    <tr>\n",
       "      <th>824</th>\n",
       "      <td>2008</td>\n",
       "      <td>1</td>\n",
       "      <td>honda</td>\n",
       "      <td>NaN</td>\n",
       "      <td>NaN</td>\n",
       "      <td>NaN</td>\n",
       "      <td>button</td>\n",
       "      <td>Collision</td>\n",
       "    </tr>\n",
       "    <tr>\n",
       "      <th>842</th>\n",
       "      <td>2008</td>\n",
       "      <td>1</td>\n",
       "      <td>red_bull</td>\n",
       "      <td>NaN</td>\n",
       "      <td>NaN</td>\n",
       "      <td>NaN</td>\n",
       "      <td>coulthard</td>\n",
       "      <td>Collision</td>\n",
       "    </tr>\n",
       "    <tr>\n",
       "      <th>1120</th>\n",
       "      <td>2008</td>\n",
       "      <td>1</td>\n",
       "      <td>red_bull</td>\n",
       "      <td>NaN</td>\n",
       "      <td>NaN</td>\n",
       "      <td>NaN</td>\n",
       "      <td>webber</td>\n",
       "      <td>Collision</td>\n",
       "    </tr>\n",
       "    <tr>\n",
       "      <th>860</th>\n",
       "      <td>2008</td>\n",
       "      <td>1</td>\n",
       "      <td>super_aguri</td>\n",
       "      <td>NaN</td>\n",
       "      <td>NaN</td>\n",
       "      <td>NaN</td>\n",
       "      <td>davidson</td>\n",
       "      <td>Collision</td>\n",
       "    </tr>\n",
       "    <tr>\n",
       "      <th>1062</th>\n",
       "      <td>2008</td>\n",
       "      <td>1</td>\n",
       "      <td>super_aguri</td>\n",
       "      <td>NaN</td>\n",
       "      <td>NaN</td>\n",
       "      <td>NaN</td>\n",
       "      <td>sato</td>\n",
       "      <td>Transmission</td>\n",
       "    </tr>\n",
       "    <tr>\n",
       "      <th>882</th>\n",
       "      <td>2008</td>\n",
       "      <td>1</td>\n",
       "      <td>toyota</td>\n",
       "      <td>NaN</td>\n",
       "      <td>NaN</td>\n",
       "      <td>NaN</td>\n",
       "      <td>glock</td>\n",
       "      <td>Accident</td>\n",
       "    </tr>\n",
       "    <tr>\n",
       "      <th>1084</th>\n",
       "      <td>2008</td>\n",
       "      <td>1</td>\n",
       "      <td>toyota</td>\n",
       "      <td>NaN</td>\n",
       "      <td>NaN</td>\n",
       "      <td>NaN</td>\n",
       "      <td>trulli</td>\n",
       "      <td>Electrical</td>\n",
       "    </tr>\n",
       "    <tr>\n",
       "      <th>1264</th>\n",
       "      <td>2009</td>\n",
       "      <td>1</td>\n",
       "      <td>mclaren</td>\n",
       "      <td>NaN</td>\n",
       "      <td>NaN</td>\n",
       "      <td>NaN</td>\n",
       "      <td>hamilton</td>\n",
       "      <td>Disqualified</td>\n",
       "    </tr>\n",
       "    <tr>\n",
       "      <th>1300</th>\n",
       "      <td>2009</td>\n",
       "      <td>1</td>\n",
       "      <td>mclaren</td>\n",
       "      <td>NaN</td>\n",
       "      <td>NaN</td>\n",
       "      <td>NaN</td>\n",
       "      <td>kovalainen</td>\n",
       "      <td>Collision</td>\n",
       "    </tr>\n",
       "    <tr>\n",
       "      <th>2106</th>\n",
       "      <td>2011</td>\n",
       "      <td>1</td>\n",
       "      <td>hrt</td>\n",
       "      <td>NaN</td>\n",
       "      <td>NaN</td>\n",
       "      <td>NaN</td>\n",
       "      <td>karthikeyan</td>\n",
       "      <td>Did not qualify</td>\n",
       "    </tr>\n",
       "    <tr>\n",
       "      <th>2153</th>\n",
       "      <td>2011</td>\n",
       "      <td>1</td>\n",
       "      <td>hrt</td>\n",
       "      <td>NaN</td>\n",
       "      <td>NaN</td>\n",
       "      <td>NaN</td>\n",
       "      <td>liuzzi</td>\n",
       "      <td>Did not qualify</td>\n",
       "    </tr>\n",
       "    <tr>\n",
       "      <th>2115</th>\n",
       "      <td>2011</td>\n",
       "      <td>1</td>\n",
       "      <td>sauber</td>\n",
       "      <td>NaN</td>\n",
       "      <td>NaN</td>\n",
       "      <td>NaN</td>\n",
       "      <td>kobayashi</td>\n",
       "      <td>Disqualified</td>\n",
       "    </tr>\n",
       "    <tr>\n",
       "      <th>2228</th>\n",
       "      <td>2011</td>\n",
       "      <td>1</td>\n",
       "      <td>sauber</td>\n",
       "      <td>NaN</td>\n",
       "      <td>NaN</td>\n",
       "      <td>NaN</td>\n",
       "      <td>perez</td>\n",
       "      <td>Disqualified</td>\n",
       "    </tr>\n",
       "    <tr>\n",
       "      <th>2530</th>\n",
       "      <td>2012</td>\n",
       "      <td>1</td>\n",
       "      <td>hrt</td>\n",
       "      <td>NaN</td>\n",
       "      <td>NaN</td>\n",
       "      <td>NaN</td>\n",
       "      <td>karthikeyan</td>\n",
       "      <td>Did not qualify</td>\n",
       "    </tr>\n",
       "    <tr>\n",
       "      <th>2770</th>\n",
       "      <td>2012</td>\n",
       "      <td>1</td>\n",
       "      <td>hrt</td>\n",
       "      <td>NaN</td>\n",
       "      <td>NaN</td>\n",
       "      <td>NaN</td>\n",
       "      <td>rosa</td>\n",
       "      <td>Did not qualify</td>\n",
       "    </tr>\n",
       "  </tbody>\n",
       "</table>\n",
       "</div>"
      ],
      "text/plain": [
       "      raceYear  raceRound constructorRef  constructorWins  \\\n",
       "864       2008          1    force_india              NaN   \n",
       "1066      2008          1    force_india              NaN   \n",
       "788       2008          1          honda              NaN   \n",
       "824       2008          1          honda              NaN   \n",
       "842       2008          1       red_bull              NaN   \n",
       "1120      2008          1       red_bull              NaN   \n",
       "860       2008          1    super_aguri              NaN   \n",
       "1062      2008          1    super_aguri              NaN   \n",
       "882       2008          1         toyota              NaN   \n",
       "1084      2008          1         toyota              NaN   \n",
       "1264      2009          1        mclaren              NaN   \n",
       "1300      2009          1        mclaren              NaN   \n",
       "2106      2011          1            hrt              NaN   \n",
       "2153      2011          1            hrt              NaN   \n",
       "2115      2011          1         sauber              NaN   \n",
       "2228      2011          1         sauber              NaN   \n",
       "2530      2012          1            hrt              NaN   \n",
       "2770      2012          1            hrt              NaN   \n",
       "\n",
       "      pointsConstructorEarned  constructorPosition    driverRef  \\\n",
       "864                       NaN                  NaN   fisichella   \n",
       "1066                      NaN                  NaN        sutil   \n",
       "788                       NaN                  NaN  barrichello   \n",
       "824                       NaN                  NaN       button   \n",
       "842                       NaN                  NaN    coulthard   \n",
       "1120                      NaN                  NaN       webber   \n",
       "860                       NaN                  NaN     davidson   \n",
       "1062                      NaN                  NaN         sato   \n",
       "882                       NaN                  NaN        glock   \n",
       "1084                      NaN                  NaN       trulli   \n",
       "1264                      NaN                  NaN     hamilton   \n",
       "1300                      NaN                  NaN   kovalainen   \n",
       "2106                      NaN                  NaN  karthikeyan   \n",
       "2153                      NaN                  NaN       liuzzi   \n",
       "2115                      NaN                  NaN    kobayashi   \n",
       "2228                      NaN                  NaN        perez   \n",
       "2530                      NaN                  NaN  karthikeyan   \n",
       "2770                      NaN                  NaN         rosa   \n",
       "\n",
       "         driverStatus  \n",
       "864         Collision  \n",
       "1066       Hydraulics  \n",
       "788      Disqualified  \n",
       "824         Collision  \n",
       "842         Collision  \n",
       "1120        Collision  \n",
       "860         Collision  \n",
       "1062     Transmission  \n",
       "882          Accident  \n",
       "1084       Electrical  \n",
       "1264     Disqualified  \n",
       "1300        Collision  \n",
       "2106  Did not qualify  \n",
       "2153  Did not qualify  \n",
       "2115     Disqualified  \n",
       "2228     Disqualified  \n",
       "2530  Did not qualify  \n",
       "2770  Did not qualify  "
      ]
     },
     "execution_count": 14,
     "metadata": {},
     "output_type": "execute_result"
    }
   ],
   "source": [
    "proyection = [\n",
    "    \"raceYear\",\n",
    "    \"raceRound\",\n",
    "    \"constructorRef\",\n",
    "    \"constructorWins\",\n",
    "    \"pointsConstructorEarned\",\n",
    "    \"constructorPosition\",\n",
    "    \"driverRef\",\n",
    "    \"driverStatus\",\n",
    "]\n",
    "\n",
    "nulls = df[df[\"pointsConstructorEarned\"].isnull()]\n",
    "nulls.sort_values(by=[\"raceYear\", \"raceRound\", \"constructorRef\"])[proyection]"
   ]
  },
  {
   "cell_type": "markdown",
   "metadata": {},
   "source": [
    "It can be seen that they have no wins or points as these are the first races of the seasons where the two drivers of the same constructor have not been able to finish the race. Therefore, for these two attributes will be filled with zeros.\n",
    "\n",
    "Regarding the position, each constructor will be provided with the maximum, obviously, per race.\n"
   ]
  },
  {
   "cell_type": "code",
   "execution_count": 15,
   "metadata": {},
   "outputs": [
    {
     "data": {
      "text/plain": [
       "carNumber                     0\n",
       "positionGrid                  0\n",
       "positionFinal                 0\n",
       "pointsDriverEarned            0\n",
       "lapsCompleted                 0\n",
       "timeTakenInMillisec        3654\n",
       "fastestLap                  321\n",
       "fastestLapRank              105\n",
       "fastestLapTime              321\n",
       "maxSpeed                    321\n",
       "driverRef                     0\n",
       "driverNumber               1724\n",
       "driverNationality             0\n",
       "constructorRef                0\n",
       "constructorNationality        0\n",
       "raceYear                      0\n",
       "raceRound                     0\n",
       "grandPrix                     0\n",
       "raceTime                      0\n",
       "circuitRef                    0\n",
       "circuitLocation               0\n",
       "circuitCountry                0\n",
       "circuitLat                    0\n",
       "circuitLng                    0\n",
       "circuitAlt                    0\n",
       "driverStatus                  0\n",
       "driverWins                    0\n",
       "pointsConstructorEarned       0\n",
       "constructorPosition           0\n",
       "constructorWins               0\n",
       "q1                            0\n",
       "q2                            0\n",
       "q3                            0\n",
       "driverAgeToday                0\n",
       "driverAgeAtRace               0\n",
       "dtype: int64"
      ]
     },
     "execution_count": 15,
     "metadata": {},
     "output_type": "execute_result"
    }
   ],
   "source": [
    "mask = [\"constructorWins\", \"pointsConstructorEarned\"]\n",
    "df[mask] = df[mask].fillna(0)\n",
    "\n",
    "last_ctor_by_race = (\n",
    "    df[[\"raceYear\", \"raceRound\", \"constructorPosition\"]]\n",
    "    .groupby([\"raceYear\", \"raceRound\"])\n",
    "    .agg({\"constructorPosition\": lambda x: max(x) + 1})\n",
    ")\n",
    "\n",
    "mask = df[\"constructorPosition\"].isnull()\n",
    "\n",
    "mg = df[mask]\n",
    "mg = mg.join(last_ctor_by_race, how=\"left\", on=[\"raceYear\", \"raceRound\"], rsuffix=\"Max\")\n",
    "df.loc[mask, \"constructorPosition\"] = mg[\"constructorPositionMax\"]\n",
    "\n",
    "df.isnull().sum()"
   ]
  },
  {
   "cell_type": "markdown",
   "metadata": {},
   "source": [
    "Note how this attribute is derived from the final position of the pilots involved, i.e., the same happens as in the previous section, so we will proceed in a similar way.\n"
   ]
  },
  {
   "cell_type": "code",
   "execution_count": 16,
   "metadata": {},
   "outputs": [],
   "source": [
    "years = df[\"raceYear\"].drop_duplicates().to_numpy()\n",
    "drivers = df[\"driverRef\"].drop_duplicates().to_numpy()\n",
    "\n",
    "for year in years:\n",
    "    for driver in [\"alonso\"]:\n",
    "        mask = (df[\"raceYear\"] == year) & (df[\"driverRef\"] == driver)\n",
    "        races = df.loc[mask, \"constructorWins\"].iloc[:-1]\n",
    "        races.loc[-1] = 0\n",
    "        races.index += 1\n",
    "        races.sort_index(inplace=True)\n",
    "        races = races.to_numpy()\n",
    "        df.loc[mask, \"constructorWins\"] = races"
   ]
  },
  {
   "cell_type": "markdown",
   "metadata": {},
   "source": [
    "## Driver numbers\n"
   ]
  },
  {
   "cell_type": "markdown",
   "metadata": {},
   "source": [
    "Finally, the driver numbers have yet to be specified. First we will see which are the drivers without numbers.\n"
   ]
  },
  {
   "cell_type": "code",
   "execution_count": 17,
   "metadata": {},
   "outputs": [
    {
     "data": {
      "text/plain": [
       "array(['albers', 'barrichello', 'coulthard', 'doornbos', 'fisichella',\n",
       "       'heidfeld', 'ide', 'klien', 'liuzzi', 'michael_schumacher',\n",
       "       'montagny', 'monteiro', 'montoya', 'ralf_schumacher', 'rosa',\n",
       "       'sato', 'speed', 'trulli', 'villeneuve', 'webber', 'yamamoto',\n",
       "       'davidson', 'kovalainen', 'markus_winkelhock', 'nakajima', 'wurz',\n",
       "       'bourdais', 'glock', 'piquet_jr', 'alguersuari', 'badoer', 'buemi',\n",
       "       'bruno_senna', 'chandhok', 'grassi', 'petrov', 'ambrosio',\n",
       "       'karthikeyan', 'resta', 'pic', 'garde'], dtype=object)"
      ]
     },
     "execution_count": 17,
     "metadata": {},
     "output_type": "execute_result"
    }
   ],
   "source": [
    "df[df[\"driverNumber\"].isnull()][\"driverRef\"].drop_duplicates().to_numpy()"
   ]
  },
  {
   "cell_type": "markdown",
   "metadata": {},
   "source": [
    "Doing a little research, it's not just that these pilots are not numbered in the data set, but that they can't be found on the web either. For example, in the following link there is a compilation of numbers in which none appears.\n",
    "\n",
    "_Source: https://en.wikipedia.org/wiki/List_of_Formula_One_driver_numbers_\n",
    "\n",
    "For this reason, and bearing in mind that the numbers should not significantly influence the result, they will be provided with a possible random number, i.e., one that is in the range 2 to 99 without the 17, and, obviously, not already in use.\n"
   ]
  },
  {
   "cell_type": "code",
   "execution_count": 18,
   "metadata": {},
   "outputs": [
    {
     "data": {
      "text/plain": [
       "carNumber                     0\n",
       "positionGrid                  0\n",
       "positionFinal                 0\n",
       "pointsDriverEarned            0\n",
       "lapsCompleted                 0\n",
       "timeTakenInMillisec        3654\n",
       "fastestLap                  321\n",
       "fastestLapRank              105\n",
       "fastestLapTime              321\n",
       "maxSpeed                    321\n",
       "driverRef                     0\n",
       "driverNumber                  0\n",
       "driverNationality             0\n",
       "constructorRef                0\n",
       "constructorNationality        0\n",
       "raceYear                      0\n",
       "raceRound                     0\n",
       "grandPrix                     0\n",
       "raceTime                      0\n",
       "circuitRef                    0\n",
       "circuitLocation               0\n",
       "circuitCountry                0\n",
       "circuitLat                    0\n",
       "circuitLng                    0\n",
       "circuitAlt                    0\n",
       "driverStatus                  0\n",
       "driverWins                    0\n",
       "pointsConstructorEarned       0\n",
       "constructorPosition           0\n",
       "constructorWins               0\n",
       "q1                            0\n",
       "q2                            0\n",
       "q3                            0\n",
       "driverAgeToday                0\n",
       "driverAgeAtRace               0\n",
       "dtype: int64"
      ]
     },
     "execution_count": 18,
     "metadata": {},
     "output_type": "execute_result"
    }
   ],
   "source": [
    "numbers = np.arange(2, 100, dtype=np.float64)\n",
    "numbers = np.delete(numbers, np.where(numbers == 17.0))\n",
    "numbers_by_year = {\n",
    "    year: np.delete(\n",
    "        numbers,\n",
    "        np.where(np.isin(numbers, df[\"driverNumber\"].drop_duplicates())),\n",
    "    ).tolist()\n",
    "    for year in df[\"raceYear\"].drop_duplicates()\n",
    "}\n",
    "\n",
    "drivers = df[df[\"driverNumber\"].isnull()][\"driverRef\"].drop_duplicates().to_numpy()\n",
    "\n",
    "for driver in drivers:\n",
    "    mask = df[\"driverRef\"] == driver\n",
    "    first_year = df.loc[mask, \"raceYear\"].head(1).values[0]\n",
    "    last_year = df.loc[mask, \"raceYear\"].tail(1).values[0]\n",
    "    possible_numbers = numbers_by_year[first_year]\n",
    "    driver_number = np.random.choice(possible_numbers, 1)[0]\n",
    "    df.loc[mask, \"driverNumber\"] = driver_number\n",
    "    while first_year <= last_year:\n",
    "        ls = numbers_by_year[first_year]\n",
    "        new_possible_numbers = np.delete(ls, np.where(ls == driver_number))\n",
    "        numbers_by_year[first_year] = new_possible_numbers\n",
    "        first_year += 1\n",
    "\n",
    "df.isnull().sum()"
   ]
  },
  {
   "cell_type": "markdown",
   "metadata": {},
   "source": [
    "## Remaining attributes\n"
   ]
  },
  {
   "cell_type": "markdown",
   "metadata": {},
   "source": [
    "Finally, there are attributes that are known once the race is over, i.e., possible target attributes. As they will not be used for now, they will be left unprocessed, with a possible revision in the future if we need to add more attributes to improve the model or change prediction.\n",
    "\n",
    "A possible example of processing would be:\n",
    "\n",
    "- to make an accumulated history per season until the race taken from podiums or positions\n",
    "- fastest time per circuit\n",
    "- max speed per circuit\n",
    "- fastest time per circuit and driver\n",
    "- max speed per circuit and driver\n",
    "- etc\n",
    "\n",
    "In addition, we again write the results obtained for later sections.\n"
   ]
  },
  {
   "cell_type": "code",
   "execution_count": 19,
   "metadata": {},
   "outputs": [],
   "source": [
    "df.to_csv(\"../assets/data/processed/missing_values.csv\", index=False)"
   ]
  }
 ],
 "metadata": {
  "kernelspec": {
   "display_name": "Python 3",
   "language": "python",
   "name": "python3"
  },
  "language_info": {
   "codemirror_mode": {
    "name": "ipython",
    "version": 3
   },
   "file_extension": ".py",
   "mimetype": "text/x-python",
   "name": "python",
   "nbconvert_exporter": "python",
   "pygments_lexer": "ipython3",
   "version": "3.10.11"
  }
 },
 "nbformat": 4,
 "nbformat_minor": 2
}
