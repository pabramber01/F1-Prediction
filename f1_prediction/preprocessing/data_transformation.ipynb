{
 "cells": [
  {
   "cell_type": "markdown",
   "metadata": {},
   "source": [
    "# Data transformation\n"
   ]
  },
  {
   "cell_type": "markdown",
   "metadata": {},
   "source": [
    "## Dependencies\n"
   ]
  },
  {
   "cell_type": "markdown",
   "metadata": {},
   "source": [
    "The dependencies used are as follows\n"
   ]
  },
  {
   "cell_type": "code",
   "execution_count": 1,
   "metadata": {},
   "outputs": [],
   "source": [
    "from datetime import datetime\n",
    "import numpy as np\n",
    "import pandas as pd\n",
    "\n",
    "pd.set_option(\"display.max_columns\", None)\n",
    "pd.set_option(\"display.max_rows\", None)\n",
    "\n",
    "import warnings\n",
    "\n",
    "warnings.simplefilter(\"ignore\")"
   ]
  },
  {
   "cell_type": "markdown",
   "metadata": {},
   "source": [
    "## Datatype conversion\n"
   ]
  },
  {
   "cell_type": "markdown",
   "metadata": {},
   "source": [
    "Each data will be transformed to its corresponding data type. In addition, the times will be converted to milliseconds and two derived attributes will be created: the age of the current driver and when the race was run. Also, the string \"\\N\" will be replaced by None, to determine the nulls in the object type data.\n"
   ]
  },
  {
   "cell_type": "code",
   "execution_count": 2,
   "metadata": {},
   "outputs": [
    {
     "name": "stdout",
     "output_type": "stream",
     "text": [
      "<class 'pandas.core.frame.DataFrame'>\n",
      "RangeIndex: 26080 entries, 0 to 26079\n",
      "Data columns (total 35 columns):\n",
      " #   Column                   Non-Null Count  Dtype  \n",
      "---  ------                   --------------  -----  \n",
      " 0   carNumber                26074 non-null  float64\n",
      " 1   positionGrid             26080 non-null  int64  \n",
      " 2   positionFinal            26080 non-null  int64  \n",
      " 3   pointsDriverEarned       26080 non-null  float64\n",
      " 4   lapsCompleted            26080 non-null  int64  \n",
      " 5   timeTakenInMillisec      7250 non-null   float64\n",
      " 6   fastestLap               7615 non-null   float64\n",
      " 7   fastestLapRank           7831 non-null   float64\n",
      " 8   fastestLapTime           7615 non-null   float64\n",
      " 9   maxSpeed                 7615 non-null   float64\n",
      " 10  driverRef                26080 non-null  object \n",
      " 11  driverNumber             5823 non-null   float64\n",
      " 12  driverNationality        26080 non-null  object \n",
      " 13  constructorRef           26080 non-null  object \n",
      " 14  constructorNationality   26080 non-null  object \n",
      " 15  raceYear                 26080 non-null  int64  \n",
      " 16  raceRound                26080 non-null  int64  \n",
      " 17  grandPrix                26080 non-null  object \n",
      " 18  raceTime                 7611 non-null   float64\n",
      " 19  circuitRef               26080 non-null  object \n",
      " 20  circuitLocation          26080 non-null  object \n",
      " 21  circuitCountry           26080 non-null  object \n",
      " 22  circuitLat               26080 non-null  float64\n",
      " 23  circuitLng               26080 non-null  float64\n",
      " 24  circuitAlt               26020 non-null  float64\n",
      " 25  driverStatus             26080 non-null  object \n",
      " 26  driverWins               25611 non-null  float64\n",
      " 27  pointsConstructorEarned  24213 non-null  float64\n",
      " 28  constructorPosition      24213 non-null  float64\n",
      " 29  constructorWins          24213 non-null  float64\n",
      " 30  q1                       9656 non-null   float64\n",
      " 31  q2                       5342 non-null   float64\n",
      " 32  q3                       3297 non-null   float64\n",
      " 33  driverAgeToday           26080 non-null  int64  \n",
      " 34  driverAgeAtRace          26080 non-null  int64  \n",
      "dtypes: float64(19), int64(7), object(9)\n",
      "memory usage: 7.0+ MB\n"
     ]
    }
   ],
   "source": [
    "df = pd.read_csv(\"../assets/data/processed/data_selection.csv\")\n",
    "\n",
    "dates = [\"driverBirth\", \"raceDate\"]\n",
    "for d in dates:\n",
    "    df[d] = pd.to_datetime(df[d])\n",
    "\n",
    "h_f, m_f = \"%H:%M:%S\", \"%M:%S.%f\"\n",
    "times = [\n",
    "    (\"fastestLapTime\", m_f),\n",
    "    (\"raceTime\", h_f),\n",
    "    (\"q1\", m_f),\n",
    "    (\"q2\", m_f),\n",
    "    (\"q3\", m_f),\n",
    "]\n",
    "for t, f in times:\n",
    "    df[t] = pd.to_numeric(\n",
    "        pd.to_timedelta(\n",
    "            pd.to_datetime(df[t], format=f, errors=\"coerce\").dt.time.to_numpy(dtype=str)\n",
    "        ).total_seconds()\n",
    "        * 1000\n",
    "    )\n",
    "\n",
    "numbers = [\n",
    "    \"carNumber\",\n",
    "    \"positionGrid\",\n",
    "    \"positionFinal\",\n",
    "    \"pointsDriverEarned\",\n",
    "    \"lapsCompleted\",\n",
    "    \"timeTakenInMillisec\",\n",
    "    \"fastestLap\",\n",
    "    \"fastestLapRank\",\n",
    "    \"maxSpeed\",\n",
    "    \"driverNumber\",\n",
    "    \"raceYear\",\n",
    "    \"raceRound\",\n",
    "    \"circuitLat\",\n",
    "    \"circuitLng\",\n",
    "    \"circuitAlt\",\n",
    "    \"driverWins\",\n",
    "    \"pointsConstructorEarned\",\n",
    "    \"constructorPosition\",\n",
    "    \"constructorWins\",\n",
    "]\n",
    "for n in numbers:\n",
    "    df[n] = pd.to_numeric(df[n], errors=\"coerce\")\n",
    "\n",
    "df[\"driverAgeToday\"] = np.int64(datetime.today().year - df[\"driverBirth\"].dt.year)\n",
    "df[\"driverAgeAtRace\"] = np.int64(df[\"raceDate\"].dt.year - df[\"driverBirth\"].dt.year)\n",
    "df = df.drop([\"driverBirth\"], axis=1)\n",
    "df = df.drop([\"raceDate\"], axis=1)\n",
    "\n",
    "df = df.replace(\"\\\\N\", None)\n",
    "\n",
    "df.info()"
   ]
  },
  {
   "cell_type": "markdown",
   "metadata": {},
   "source": [
    "Finally, we write down the results for later sections\n"
   ]
  },
  {
   "cell_type": "code",
   "execution_count": 3,
   "metadata": {},
   "outputs": [],
   "source": [
    "df.to_csv(\"../assets/data/processed/data_transformation.csv\", index=False)"
   ]
  }
 ],
 "metadata": {
  "kernelspec": {
   "display_name": "Python 3",
   "language": "python",
   "name": "python3"
  },
  "language_info": {
   "codemirror_mode": {
    "name": "ipython",
    "version": 3
   },
   "file_extension": ".py",
   "mimetype": "text/x-python",
   "name": "python",
   "nbconvert_exporter": "python",
   "pygments_lexer": "ipython3",
   "version": "3.10.11"
  }
 },
 "nbformat": 4,
 "nbformat_minor": 2
}
